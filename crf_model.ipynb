{
  "nbformat": 4,
  "nbformat_minor": 0,
  "metadata": {
    "colab": {
      "provenance": [],
      "mount_file_id": "13PsQqXAJ3MyWh61eirLMH_5O2SZzDRvE",
      "authorship_tag": "ABX9TyOcWpRXkXg2FgXkhVTa7Er9",
      "include_colab_link": true
    },
    "kernelspec": {
      "name": "python3",
      "display_name": "Python 3"
    },
    "language_info": {
      "name": "python"
    },
    "accelerator": "GPU",
    "gpuClass": "standard"
  },
  "cells": [
    {
      "cell_type": "markdown",
      "metadata": {
        "id": "view-in-github",
        "colab_type": "text"
      },
      "source": [
        "<a href=\"https://colab.research.google.com/github/arqavan94/Persian_NLP_Task/blob/main/crf_model.ipynb\" target=\"_parent\"><img src=\"https://colab.research.google.com/assets/colab-badge.svg\" alt=\"Open In Colab\"/></a>"
      ]
    },
    {
      "cell_type": "code",
      "source": [
        "!pip install hazm"
      ],
      "metadata": {
        "id": "QeoQ6fsx6CFo"
      },
      "execution_count": null,
      "outputs": []
    },
    {
      "cell_type": "code",
      "source": [
        "!pip install python-crfsuite"
      ],
      "metadata": {
        "id": "YXFo5xYmv4NS"
      },
      "execution_count": null,
      "outputs": []
    },
    {
      "cell_type": "code",
      "source": [
        "!pip install sklearn_crfsuite"
      ],
      "metadata": {
        "id": "mnKt_i-ep2BB"
      },
      "execution_count": null,
      "outputs": []
    },
    {
      "cell_type": "code",
      "execution_count": null,
      "metadata": {
        "id": "QWb71IG25qyz"
      },
      "outputs": [],
      "source": [
        "from hazm import *\n",
        "import os, codecs\n",
        "import numpy as np\n",
        "from hazm import PeykareReader\n",
        "from sklearn.model_selection import train_test_split\n",
        "from hazm.PeykareReader import coarse_pos_e as peykare_coarse_pos_e\n",
        "from nltk.tag.util import untag\n",
        "from sklearn_crfsuite import metrics\n",
        "from sklearn_crfsuite.utils import flatten\n",
        "from sklearn.metrics import classification_report"
      ]
    },
    {
      "cell_type": "markdown",
      "source": [
        "# Load Data"
      ],
      "metadata": {
        "id": "bof77aqW6NG_"
      }
    },
    {
      "cell_type": "code",
      "source": [
        "peykare= PeykareReader(root='/content/drive/MyDrive/Peykare-full.zip/TextLabelData')\n",
        "print(next(peykare.sents()))"
      ],
      "metadata": {
        "id": "c0h53ZF5YmTZ"
      },
      "execution_count": null,
      "outputs": []
    },
    {
      "cell_type": "code",
      "source": [
        "text_labels= np.load('/content/drive/MyDrive/text_labels.npz', allow_pickle=True)\n",
        "text_labels.files\n",
        "text_labels= text_labels['arr_0']"
      ],
      "metadata": {
        "id": "-GsmjKRY6Qsl"
      },
      "execution_count": null,
      "outputs": []
    },
    {
      "cell_type": "markdown",
      "source": [
        "# python-crfsuit"
      ],
      "metadata": {
        "id": "T6LeDk0X6-MC"
      }
    },
    {
      "cell_type": "code",
      "source": [
        "def is_punc(value):\n",
        "  punctuation_list=['\"', '#', '(', ')', '*', ',', '-', '.', '/', ':', '[', ']', '«', '»', '،',';','?','!']\n",
        "  if value in punctuation_list:\n",
        "      return True\n",
        "  else:\n",
        "      return False"
      ],
      "metadata": {
        "id": "bYt1NWwHHgwy"
      },
      "execution_count": null,
      "outputs": []
    },
    {
      "cell_type": "code",
      "source": [
        "def features(sentence, index):\n",
        "    return {\n",
        "        'word': sentence[index],\n",
        "        'is_first': index == 0,\n",
        "        'is_last': index == len(sentence) - 1,\n",
        "        \n",
        "        'prefix-1': sentence[index][0],\n",
        "        'prefix-2': sentence[index][:2],\n",
        "        'prefix-3': sentence[index][:3],\n",
        "        'suffix-1': sentence[index][-1],\n",
        "        'suffix-2': sentence[index][-2:],\n",
        "        'suffix-3': sentence[index][-3:],\n",
        "\n",
        "        'prev_word': '' if index == 0 else sentence[index - 1],\n",
        "        'two_prev_word':'' if index == 0 else sentence[index - 2],\n",
        "        'next_word': '' if index == len(sentence) - 1 else sentence[index + 1],\n",
        "        'two_next_word': '' if (index == len(sentence) - 1 or index == len(sentence) - 2) else sentence[index + 2],\n",
        "        #digit\n",
        "        'is_numeric': sentence[index].isdigit(),\n",
        "        'prev_is_numeric': '' if index == 0 else sentence[index - 1].isdigit(),\n",
        "        'next_is_numeric': '' if index == len(sentence) - 1 else sentence[index + 1].isdigit(),\n",
        "        #punc\n",
        "        'is_punc': is_punc(sentence[index]),\n",
        "        'prev_is_punc':  '' if  index==0 else is_punc(sentence[index-1]),\n",
        "        'next_is_punc':  '' if index== len(sentence) -1 else is_punc(sentence[index+1]),\n",
        "        \n",
        "    }"
      ],
      "metadata": {
        "id": "zRIqJADI8yCC"
      },
      "execution_count": null,
      "outputs": []
    },
    {
      "cell_type": "code",
      "source": [
        "text_labels.shape"
      ],
      "metadata": {
        "colab": {
          "base_uri": "https://localhost:8080/"
        },
        "id": "3LntSfPdrUox",
        "outputId": "77ee992a-b108-4f81-c317-1682e60eb9dc"
      },
      "execution_count": null,
      "outputs": [
        {
          "output_type": "execute_result",
          "data": {
            "text/plain": [
              "(344736,)"
            ]
          },
          "metadata": {},
          "execution_count": 4
        }
      ]
    },
    {
      "cell_type": "code",
      "source": [
        "point = int(.3 * len(text_labels))\n",
        "main_data = text_labels[:point]\n",
        "remain_data = text_labels[point:]"
      ],
      "metadata": {
        "id": "lpnHmK9DWar1"
      },
      "execution_count": null,
      "outputs": []
    },
    {
      "cell_type": "code",
      "source": [
        "main_data.shape"
      ],
      "metadata": {
        "colab": {
          "base_uri": "https://localhost:8080/"
        },
        "id": "MBKAjqw8WzS0",
        "outputId": "b7ea60b4-3780-4a68-c286-a267b5a94b9b"
      },
      "execution_count": null,
      "outputs": [
        {
          "output_type": "execute_result",
          "data": {
            "text/plain": [
              "(103420,)"
            ]
          },
          "metadata": {},
          "execution_count": 9
        }
      ]
    },
    {
      "cell_type": "markdown",
      "source": [
        "# Train-Test Split"
      ],
      "metadata": {
        "id": "DLDyLLTh-g5c"
      }
    },
    {
      "cell_type": "code",
      "source": [
        "def make_data(main_data):\n",
        "    X, y = [], []\n",
        "    for tagged in main_data:\n",
        "      X.append([features(untag(tagged), index) for index in range(len(tagged))])\n",
        "      y.append([tag for _, tag in tagged])\n",
        "    return X,y\n",
        "    \n",
        "\n",
        "X, y= make_data(main_data)"
      ],
      "metadata": {
        "id": "eOs8io24-et_"
      },
      "execution_count": null,
      "outputs": []
    },
    {
      "cell_type": "code",
      "source": [
        "X_train, X_test, y_train, y_test = train_test_split(X, y, test_size=0.2)"
      ],
      "metadata": {
        "id": "SJVtJdDxhGWx"
      },
      "execution_count": null,
      "outputs": []
    },
    {
      "cell_type": "markdown",
      "source": [
        "# Train CRF Model"
      ],
      "metadata": {
        "id": "hipLnpauqI0H"
      }
    },
    {
      "cell_type": "code",
      "source": [
        "import pycrfsuite\n",
        "trainer = pycrfsuite.Trainer(verbose=True)\n",
        "\n",
        "for xseq, yseq in zip(X_train, y_train):\n",
        "    trainer.append(xseq, yseq)\n",
        "\n",
        "\n",
        "trainer.set_params({\n",
        "    \n",
        "    'c1': 0.1,\n",
        "\n",
        "   \n",
        "    'c2': 0.01,  \n",
        "\n",
        "    \n",
        "    'max_iterations':100,\n",
        "\n",
        "    \n",
        "    'feature.possible_transitions': True\n",
        "})"
      ],
      "metadata": {
        "id": "7XM3wb0CqGVy"
      },
      "execution_count": null,
      "outputs": []
    },
    {
      "cell_type": "code",
      "source": [
        "trainer.train('/content/drive/MyDrive/crf.model')"
      ],
      "metadata": {
        "id": "fpc0lxdOiXtB"
      },
      "execution_count": null,
      "outputs": []
    },
    {
      "cell_type": "markdown",
      "source": [
        "# Evaluation pycrfsuite"
      ],
      "metadata": {
        "id": "smI7PWNWj1TG"
      }
    },
    {
      "cell_type": "code",
      "source": [
        "tagger = pycrfsuite.Tagger()\n",
        "tagger.open('/content/drive/MyDrive/crf.model')\n",
        "y_pred_train = [tagger.tag(xseq) for xseq in X_train]"
      ],
      "metadata": {
        "id": "l2TkBMjtlLOG"
      },
      "execution_count": null,
      "outputs": []
    },
    {
      "cell_type": "code",
      "source": [
        "tagger2 = pycrfsuite.Tagger()\n",
        "tagger2.open('/content/drive/MyDrive/crf.model')\n",
        "y_pred_test = [tagger2.tag(xseq2) for xseq2 in X_test]"
      ],
      "metadata": {
        "id": "cpA5SUs6qMvz"
      },
      "execution_count": null,
      "outputs": []
    },
    {
      "cell_type": "markdown",
      "source": [
        "**Flatten data**"
      ],
      "metadata": {
        "id": "a6MIWfEas7LF"
      }
    },
    {
      "cell_type": "code",
      "source": [
        "y_train_flat = flatten(y_train)\n",
        "y_pred_train_flat= flatten(y_pred_train)"
      ],
      "metadata": {
        "id": "fYeRJc-1rJFW"
      },
      "execution_count": null,
      "outputs": []
    },
    {
      "cell_type": "code",
      "source": [
        "y_test_flat = flatten(y_test)\n",
        "y_pred_test_flat= flatten(y_pred_test)"
      ],
      "metadata": {
        "id": "PwdiCknUqeHS"
      },
      "execution_count": null,
      "outputs": []
    },
    {
      "cell_type": "markdown",
      "source": [
        "# Accuracy and Report pycrfsuite"
      ],
      "metadata": {
        "id": "tmzq6hIrlbeH"
      }
    },
    {
      "cell_type": "code",
      "source": [
        "print('Train set classification report: \\n\\n{}'.format(classification_report(y_train_flat, y_pred_train_flat)))\n",
        "print('Train set accuracy score:{}'.format(metrics.flat_accuracy_score(y_train, y_pred_train)))\n",
        "print('Train set f1-score:{}'.format(metrics.flat_f1_score(y_train, y_pred_train, average='weighted')))\n",
        "print('Train set precision-score:{}'.format(metrics.flat_precision_score(y_train, y_pred_train, average='weighted')))\n",
        "print('Train set recall-score:{}'.format(metrics.flat_recall_score(y_train, y_pred_train, average='weighted')))"
      ],
      "metadata": {
        "colab": {
          "base_uri": "https://localhost:8080/"
        },
        "id": "Fd5sNZJvnYIv",
        "outputId": "36108fb0-61ac-4b17-b82b-1dcaf1881dc8"
      },
      "execution_count": null,
      "outputs": [
        {
          "output_type": "stream",
          "name": "stdout",
          "text": [
            "Train set classification report: \n",
            "\n",
            "              precision    recall  f1-score   support\n",
            "\n",
            "         ADV       0.99      0.99      0.99     45138\n",
            "        ADVe       0.99      1.00      1.00      2553\n",
            "          AJ       0.98      0.98      0.98    136020\n",
            "         AJe       0.98      0.98      0.98     41203\n",
            "          CL       0.98      0.98      0.98      4124\n",
            "        CONJ       1.00      1.00      1.00    180975\n",
            "       CONJe       1.00      1.00      1.00       156\n",
            "         DET       0.99      0.99      0.99     49712\n",
            "        DETe       0.99      1.00      1.00      4724\n",
            "         INT       1.00      1.00      1.00       255\n",
            "           N       0.99      0.98      0.98    450739\n",
            "         NUM       1.00      1.00      1.00     55294\n",
            "        NUMe       0.98      0.99      0.98      4843\n",
            "          Ne       0.98      0.99      0.98    350549\n",
            "           P       1.00      1.00      1.00    206434\n",
            "       POSTP       1.00      1.00      1.00     34933\n",
            "         PRO       0.99      1.00      0.99     62927\n",
            "        PROe       1.00      1.00      1.00       692\n",
            "        PUNC       1.00      1.00      1.00    209395\n",
            "          Pe       1.00      1.00      1.00     22818\n",
            "         RES       0.99      0.99      0.99      5794\n",
            "        RESe       0.99      0.99      0.99       316\n",
            "           V       1.00      1.00      1.00    208059\n",
            "          Ve       1.00      1.00      1.00         1\n",
            "\n",
            "    accuracy                           0.99   2077654\n",
            "   macro avg       0.99      0.99      0.99   2077654\n",
            "weighted avg       0.99      0.99      0.99   2077654\n",
            "\n",
            "Train set accuracy score:0.9917069925983826\n",
            "Train set f1-score:0.9917071503989076\n",
            "Train set precision-score:0.9917188143324562\n",
            "Train set recall-score:0.9917069925983826\n"
          ]
        }
      ]
    },
    {
      "cell_type": "code",
      "source": [
        "print('Test set classification report: \\n\\n{}'.format(classification_report(y_test_flat, y_pred_test_flat)))\n",
        "print('Test set accuracy score:{}'.format(metrics.flat_accuracy_score(y_test, y_pred_test)))\n",
        "print('Test set f1-score: {}'.format(metrics.flat_f1_score(y_test, y_pred_test, average='weighted')))\n",
        "print('Test set precision-score: {}'.format(metrics.flat_precision_score(y_test, y_pred_test, average='weighted')))\n",
        "print('Test set recall-score:{}'.format(metrics.flat_recall_score(y_test, y_pred_test, average='weighted')))"
      ],
      "metadata": {
        "colab": {
          "base_uri": "https://localhost:8080/"
        },
        "id": "FFN-sq9pydu6",
        "outputId": "39d01201-7fb3-448a-c69e-75de5bd1d6ea"
      },
      "execution_count": null,
      "outputs": [
        {
          "output_type": "stream",
          "name": "stdout",
          "text": [
            "Test set classification report: \n",
            "\n",
            "              precision    recall  f1-score   support\n",
            "\n",
            "         ADV       0.93      0.91      0.92     11549\n",
            "        ADVe       0.97      0.92      0.94       667\n",
            "          AJ       0.91      0.91      0.91     34252\n",
            "         AJe       0.86      0.84      0.85     10365\n",
            "          CL       0.86      0.76      0.81      1050\n",
            "        CONJ       0.99      0.99      0.99     45488\n",
            "       CONJe       1.00      0.97      0.99        34\n",
            "         DET       0.96      0.97      0.96     12493\n",
            "        DETe       0.91      0.91      0.91      1094\n",
            "         INT       0.93      0.97      0.95        68\n",
            "           N       0.95      0.94      0.94    112410\n",
            "         NUM       0.98      0.98      0.98     13305\n",
            "        NUMe       0.87      0.84      0.85      1154\n",
            "          Ne       0.94      0.95      0.95     87940\n",
            "           P       0.99      1.00      1.00     51463\n",
            "       POSTP       1.00      1.00      1.00      8813\n",
            "         PRO       0.96      0.96      0.96     15543\n",
            "        PROe       0.81      0.47      0.59       169\n",
            "        PUNC       1.00      1.00      1.00     51770\n",
            "          Pe       0.97      0.97      0.97      5599\n",
            "         RES       0.91      0.82      0.86      1162\n",
            "        RESe       0.78      0.77      0.77        73\n",
            "           V       0.99      0.99      0.99     52200\n",
            "\n",
            "    accuracy                           0.96    518661\n",
            "   macro avg       0.93      0.91      0.92    518661\n",
            "weighted avg       0.96      0.96      0.96    518661\n",
            "\n",
            "Test set accuracy score:0.9616898128064382\n",
            "Test set f1-score: 0.9615977848956273\n",
            "Test set precision-score: 0.9616020660343096\n",
            "Test set recall-score:0.9616898128064382\n"
          ]
        }
      ]
    },
    {
      "cell_type": "markdown",
      "source": [
        "# sklearn-crfsuite"
      ],
      "metadata": {
        "id": "VM6evvgsjggr"
      }
    },
    {
      "cell_type": "code",
      "source": [
        "X_train2, X_test2, y_train2, y_test2 = train_test_split(X, y, test_size=0.2)"
      ],
      "metadata": {
        "id": "jWrfzKwlt7cz"
      },
      "execution_count": null,
      "outputs": []
    },
    {
      "cell_type": "code",
      "source": [
        "from sklearn_crfsuite import CRF\n",
        "model = CRF(verbose =True, max_iterations=100)\n",
        "try:\n",
        "    model.fit(X_train2, y_train2)\n",
        "except AttributeError:\n",
        "    pass"
      ],
      "metadata": {
        "id": "Qfluqh4cjlu_"
      },
      "execution_count": null,
      "outputs": []
    },
    {
      "cell_type": "code",
      "source": [
        "y_pred_test2 = model.predict(X_test2)\n",
        "y_test_flat2 = flatten(y_test2)\n",
        "y_pred_test_flat2= flatten(y_pred_test2)"
      ],
      "metadata": {
        "id": "ttNNmfF8yIy8"
      },
      "execution_count": null,
      "outputs": []
    },
    {
      "cell_type": "code",
      "source": [
        "print('Test set classification report: \\n\\n{}'.format(classification_report(y_test_flat2, y_pred_test_flat2)))\n",
        "print('Test set accuracy score:{}'.format(metrics.flat_accuracy_score(y_test2, y_pred_test2)))\n",
        "print('Test set f1-score: {}'.format(metrics.flat_f1_score(y_test2, y_pred_test2, average='weighted')))\n",
        "print('Test set precision-score: {}'.format(metrics.flat_precision_score(y_test2, y_pred_test2, average='weighted')))\n",
        "print('Test set recall-score:{}'.format(metrics.flat_recall_score(y_test2, y_pred_test2, average='weighted')))"
      ],
      "metadata": {
        "colab": {
          "base_uri": "https://localhost:8080/"
        },
        "id": "mF8mzd1xkC7O",
        "outputId": "02a7e1b5-07ba-4c0a-d321-ac394295e071"
      },
      "execution_count": null,
      "outputs": [
        {
          "output_type": "stream",
          "name": "stdout",
          "text": [
            "Test set classification report: \n",
            "\n",
            "              precision    recall  f1-score   support\n",
            "\n",
            "         ADV       0.92      0.90      0.91     11397\n",
            "        ADVe       0.95      0.91      0.93       630\n",
            "          AJ       0.90      0.87      0.89     34091\n",
            "         AJe       0.84      0.82      0.83     10420\n",
            "          CL       0.86      0.80      0.83      1108\n",
            "        CONJ       0.99      0.99      0.99     45104\n",
            "       CONJe       0.97      0.85      0.91        41\n",
            "         DET       0.96      0.97      0.96     12522\n",
            "        DETe       0.90      0.91      0.90      1189\n",
            "         INT       0.89      0.87      0.88        63\n",
            "           N       0.94      0.93      0.93    112265\n",
            "         NUM       0.98      0.98      0.98     13404\n",
            "        NUMe       0.85      0.81      0.83      1147\n",
            "          Ne       0.92      0.95      0.94     87583\n",
            "           P       1.00      1.00      1.00     51640\n",
            "       POSTP       1.00      1.00      1.00      8839\n",
            "         PRO       0.96      0.96      0.96     15812\n",
            "        PROe       0.80      0.27      0.41       164\n",
            "        PUNC       1.00      1.00      1.00     51183\n",
            "          Pe       0.96      0.97      0.97      5653\n",
            "         RES       0.88      0.78      0.83      1248\n",
            "        RESe       0.80      0.79      0.79        99\n",
            "           V       0.99      0.99      0.99     52285\n",
            "\n",
            "    accuracy                           0.96    517887\n",
            "   macro avg       0.92      0.88      0.90    517887\n",
            "weighted avg       0.95      0.96      0.95    517887\n",
            "\n",
            "Test set accuracy score:0.9550481089504081\n",
            "Test set f1-score: 0.954868268433274\n",
            "Test set precision-score: 0.9549119836949094\n",
            "Test set recall-score:0.9550481089504081\n"
          ]
        }
      ]
    }
  ]
}