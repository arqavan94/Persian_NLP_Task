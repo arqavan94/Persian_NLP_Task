{
  "nbformat": 4,
  "nbformat_minor": 0,
  "metadata": {
    "colab": {
      "provenance": [],
      "collapsed_sections": [
        "rJC0WYLs3bRi",
        "r6cg3GQK3tQN",
        "kJOzIj1NuRlF",
        "o0OMcD4V5J6v",
        "QdABZcPT2aHT",
        "O_lluqhh6wK8",
        "XnjegHzTrrfp",
        "YTvVau6Hnmxn"
      ],
      "include_colab_link": true
    },
    "kernelspec": {
      "name": "python3",
      "display_name": "Python 3"
    },
    "language_info": {
      "name": "python"
    },
    "accelerator": "GPU",
    "gpuClass": "standard"
  },
  "cells": [
    {
      "cell_type": "markdown",
      "metadata": {
        "id": "view-in-github",
        "colab_type": "text"
      },
      "source": [
        "<a href=\"https://colab.research.google.com/github/arqavan94/Persian_NLP_Task/blob/main/sequence_tagger_deepmodels.ipynb\" target=\"_parent\"><img src=\"https://colab.research.google.com/assets/colab-badge.svg\" alt=\"Open In Colab\"/></a>"
      ]
    },
    {
      "cell_type": "code",
      "source": [
        "!pip install hazm\n",
        "!pip install fasttext"
      ],
      "metadata": {
        "id": "JyvdGUc9_cGC"
      },
      "execution_count": null,
      "outputs": []
    },
    {
      "cell_type": "code",
      "source": [
        "# import fasttext.util\n",
        "# fasttext.util.download_model('fa', if_exists='ignore')\n",
        "# !gunzip /content/drive/MyDrive/cc.fa.300.vec.gz"
      ],
      "metadata": {
        "colab": {
          "base_uri": "https://localhost:8080/",
          "height": 53
        },
        "id": "TvbipPCgOn_a",
        "outputId": "39f7e227-74ba-42ad-f49c-446771d193d9"
      },
      "execution_count": null,
      "outputs": [
        {
          "output_type": "stream",
          "name": "stdout",
          "text": [
            "Downloading https://dl.fbaipublicfiles.com/fasttext/vectors-crawl/cc.fa.300.bin.gz\n"
          ]
        },
        {
          "output_type": "execute_result",
          "data": {
            "text/plain": [
              "'cc.fa.300.bin'"
            ],
            "application/vnd.google.colaboratory.intrinsic+json": {
              "type": "string"
            }
          },
          "metadata": {},
          "execution_count": 18
        }
      ]
    },
    {
      "cell_type": "code",
      "source": [
        "import numpy as np\n",
        "import fasttext\n",
        "from keras.models import Sequential\n",
        "from keras.layers import Dense, LSTM, InputLayer, Bidirectional, TimeDistributed, Embedding, Activation, SimpleRNN,GRU\n",
        "from keras.optimizers import Adam\n",
        "from matplotlib import pyplot as plt\n",
        "import seaborn as sns\n",
        "from hazm import PeykareReader\n",
        "from sklearn.model_selection import train_test_split\n",
        "from keras import backend as K\n",
        "from hazm  import Normalizer\n",
        "from hazm import WordTokenizer\n",
        "import tensorflow as tf\n",
        "from tensorflow.keras.preprocessing.sequence import pad_sequences\n",
        "from keras.preprocessing.text import Tokenizer\n",
        "import pickle as pkl\n",
        "from keras import metrics\n",
        "from sklearn.metrics import classification_report, confusion_matrix\n",
        "from scipy.sparse import csr_matrix\n",
        "from sklearn.preprocessing import LabelEncoder\n",
        "from tensorflow.keras.utils import to_categorical"
      ],
      "metadata": {
        "id": "kLbTO4lmv3cd"
      },
      "execution_count": 2,
      "outputs": []
    },
    {
      "cell_type": "code",
      "source": [
        "from google.colab import drive\n",
        "drive.mount('/content/drive')"
      ],
      "metadata": {
        "id": "QvzewLjTkB77",
        "colab": {
          "base_uri": "https://localhost:8080/"
        },
        "outputId": "01da3b02-8d61-400d-98a9-4e101f90cba8"
      },
      "execution_count": 4,
      "outputs": [
        {
          "output_type": "stream",
          "name": "stdout",
          "text": [
            "Mounted at /content/drive\n"
          ]
        }
      ]
    },
    {
      "cell_type": "markdown",
      "source": [
        "# **Load Data**"
      ],
      "metadata": {
        "id": "rJC0WYLs3bRi"
      }
    },
    {
      "cell_type": "code",
      "source": [
        "text_labels= np.load('/content/drive/MyDrive/text_labels.npz', allow_pickle=True)\n",
        "text_labels.files\n",
        "text_labels= text_labels['arr_0']"
      ],
      "metadata": {
        "id": "ZTLFWgfgvqs1"
      },
      "execution_count": 5,
      "outputs": []
    },
    {
      "cell_type": "code",
      "source": [
        "print(len(text_labels))"
      ],
      "metadata": {
        "colab": {
          "base_uri": "https://localhost:8080/"
        },
        "id": "4LRgZ5sQNQCJ",
        "outputId": "35eb554a-912d-477c-d2f5-409697446647"
      },
      "execution_count": null,
      "outputs": [
        {
          "output_type": "stream",
          "name": "stdout",
          "text": [
            "344736\n"
          ]
        }
      ]
    },
    {
      "cell_type": "code",
      "source": [
        "point = int(.1 * len(text_labels))\n",
        "main_data = text_labels[:point]\n",
        "remain_data = text_labels[point:]"
      ],
      "metadata": {
        "id": "HsCsZqOsbfSf"
      },
      "execution_count": null,
      "outputs": []
    },
    {
      "cell_type": "code",
      "source": [
        "sentences, sentence_tags =[], [] \n",
        "for tagged_sentence in text_labels:\n",
        "    sentence, tags = zip(*tagged_sentence)\n",
        "    sentences.append(list(sentence))\n",
        "    sentence_tags.append(list(tags))"
      ],
      "metadata": {
        "id": "SeNIfUhAqVQx"
      },
      "execution_count": null,
      "outputs": []
    },
    {
      "cell_type": "markdown",
      "source": [
        "# **Convert text to number**"
      ],
      "metadata": {
        "id": "vCS4PKcc3kme"
      }
    },
    {
      "cell_type": "code",
      "source": [
        "# Tokenize the sentences\n",
        "word_tokenizer= Tokenizer()\n",
        "word_tokenizer.fit_on_texts(sentences)\n",
        "X_encoded= word_tokenizer.texts_to_sequences(sentences)"
      ],
      "metadata": {
        "id": "ZnoKNJ2E0gqY"
      },
      "execution_count": null,
      "outputs": []
    },
    {
      "cell_type": "code",
      "source": [
        "word_index = word_tokenizer.word_index\n",
        "print('Word index:', word_index)"
      ],
      "metadata": {
        "id": "uQRfDbxUyeDJ"
      },
      "execution_count": null,
      "outputs": []
    },
    {
      "cell_type": "code",
      "source": [
        "tag_tokenizer= Tokenizer()\n",
        "tag_tokenizer.fit_on_texts(sentence_tags)\n",
        "Y_encoded= tag_tokenizer.texts_to_sequences(sentence_tags)\n",
        "\n",
        "print('Y: ', Y_encoded[0],'\\n')"
      ],
      "metadata": {
        "colab": {
          "base_uri": "https://localhost:8080/"
        },
        "id": "IkHa6uUu0vc_",
        "outputId": "3b085871-60c8-4af1-a143-77b59e4af83d"
      },
      "execution_count": null,
      "outputs": [
        {
          "output_type": "stream",
          "name": "stdout",
          "text": [
            "Y:  [1, 4, 4, 2, 2, 7, 4, 1, 3, 2, 2, 1, 3, 1, 4, 8, 4] \n",
            "\n"
          ]
        }
      ]
    },
    {
      "cell_type": "code",
      "source": [
        "lengths=[len(seq) for seq in X_encoded]\n",
        "print(\"Length of longest sentence: {}\".format(max(lengths)))"
      ],
      "metadata": {
        "colab": {
          "base_uri": "https://localhost:8080/"
        },
        "id": "ey8RCgfw5kGD",
        "outputId": "6b07fd00-9557-4fba-99f1-73ef364231fd"
      },
      "execution_count": null,
      "outputs": [
        {
          "output_type": "stream",
          "name": "stdout",
          "text": [
            "Length of longest sentence: 1210\n"
          ]
        }
      ]
    },
    {
      "cell_type": "code",
      "source": [
        "sns.boxplot(lengths)\n",
        "plt.show()"
      ],
      "metadata": {
        "colab": {
          "base_uri": "https://localhost:8080/",
          "height": 430
        },
        "id": "TVNP7BOQ5gij",
        "outputId": "39161588-d4ac-484e-e80b-4215f57dd93e"
      },
      "execution_count": null,
      "outputs": [
        {
          "output_type": "display_data",
          "data": {
            "text/plain": [
              "<Figure size 640x480 with 1 Axes>"
            ],
            "image/png": "[encoded data removed]"
          },
          "metadata": {}
        }
      ]
    },
    {
      "cell_type": "markdown",
      "source": [
        "# **Pad sequences**"
      ],
      "metadata": {
        "id": "r6cg3GQK3tQN"
      }
    },
    {
      "cell_type": "code",
      "source": [
        "MAX_LENGTH= 800"
      ],
      "metadata": {
        "id": "fS-Jd4ojsfFt"
      },
      "execution_count": null,
      "outputs": []
    },
    {
      "cell_type": "code",
      "source": [
        "X_padded =  pad_sequences(X_encoded, maxlen=MAX_LENGTH, padding='post')\n",
        "Y_padded =  pad_sequences(Y_encoded, maxlen=MAX_LENGTH, padding='post')"
      ],
      "metadata": {
        "id": "gmApUabPO3eh"
      },
      "execution_count": null,
      "outputs": []
    },
    {
      "cell_type": "code",
      "source": [
        "X = csr_matrix(X_padded)\n",
        "Y = csr_matrix(Y_padded)"
      ],
      "metadata": {
        "id": "hDE1pA6lskZb"
      },
      "execution_count": null,
      "outputs": []
    },
    {
      "cell_type": "markdown",
      "source": [
        "# **Pretrained embedding model from FastText**"
      ],
      "metadata": {
        "id": "kJOzIj1NuRlF"
      }
    },
    {
      "cell_type": "code",
      "source": [
        "fasttext_model = fasttext.load_model('/content/drive/MyDrive/fasttext/cc.fa.300.bin')\n",
        "\n",
        "embedding_size= 300\n",
        "vocab_size = len(word_tokenizer.word_index) + 1\n",
        "embedding_matrix = np.zeros((vocab_size , embedding_size))\n",
        "\n",
        "\n",
        "hits = 0\n",
        "misses = 0\n",
        "\n",
        "for word, i in word_tokenizer.word_index.items():\n",
        "    embedding_vector = fasttext_model.get_word_vector(word)\n",
        "    if embedding_vector is not None:\n",
        "        # Words not found in embedding index will be all-zeros.\n",
        "        embedding_matrix[i] = embedding_vector\n",
        "        hits += 1\n",
        "    else:\n",
        "        misses += 1\n",
        "print(\"Converted %d words (%d misses)\" % (hits, misses))"
      ],
      "metadata": {
        "id": "5LXkW_9Fugob",
        "colab": {
          "base_uri": "https://localhost:8080/"
        },
        "outputId": "af43daef-8078-4473-91a7-e1ce9dc40049"
      },
      "execution_count": null,
      "outputs": [
        {
          "output_type": "stream",
          "name": "stderr",
          "text": [
            "Warning : `load_model` does not return WordVectorModel or SupervisedModel any more, but a `FastText` object which is very similar.\n"
          ]
        },
        {
          "output_type": "stream",
          "name": "stdout",
          "text": [
            "Converted 37953 words (0 misses)\n"
          ]
        }
      ]
    },
    {
      "cell_type": "code",
      "source": [
        "print(\"Embedding shape :{}\".format(embedding_matrix.shape))"
      ],
      "metadata": {
        "id": "ae-fG6Lo3zNR",
        "colab": {
          "base_uri": "https://localhost:8080/"
        },
        "outputId": "125297a4-d1d6-44b1-f8e5-4812233b8b4b"
      },
      "execution_count": null,
      "outputs": [
        {
          "output_type": "stream",
          "name": "stdout",
          "text": [
            "Embedding shape :(37954, 300)\n"
          ]
        }
      ]
    },
    {
      "cell_type": "code",
      "source": [
        "embedding_matrix[word_tokenizer.word_index['سلام']]"
      ],
      "metadata": {
        "id": "uUw3naSkrfJt"
      },
      "execution_count": null,
      "outputs": []
    },
    {
      "cell_type": "code",
      "source": [
        "with open(\"/content/drive/MyDrive/roshan_sent_tag_data/embedding_matrix.pkl\", \"wb\") as f:\n",
        "    pkl.dump(embedding_matrix,f)"
      ],
      "metadata": {
        "id": "GHhv-A0Sl5F4"
      },
      "execution_count": null,
      "outputs": []
    },
    {
      "cell_type": "markdown",
      "source": [
        "# **Convert to categorical (one_hot)**"
      ],
      "metadata": {
        "id": "o0OMcD4V5J6v"
      }
    },
    {
      "cell_type": "code",
      "source": [
        "Y_cat = tf.keras.utils.to_categorical(Y)\n",
        "#save\n",
        "with open(\"/content/drive/MyDrive/roshan_sent_tag_data/Y_cat.pkl\", \"wb\") as f:\n",
        "    pkl.dump(Y_cat,f)"
      ],
      "metadata": {
        "id": "ULa5v4u94p6w"
      },
      "execution_count": null,
      "outputs": []
    },
    {
      "cell_type": "code",
      "source": [
        "#load\n",
        "with open(\"/content/drive/MyDrive/roshan_sent_tag_data/Y_cat.pkl\", \"rb\") as f:\n",
        "    Y_categorical = pkl.load(f)"
      ],
      "metadata": {
        "id": "ik5n33pvGGlh"
      },
      "execution_count": null,
      "outputs": []
    },
    {
      "cell_type": "markdown",
      "source": [
        "# **Split data to train, test, validation**"
      ],
      "metadata": {
        "id": "QdABZcPT2aHT"
      }
    },
    {
      "cell_type": "code",
      "source": [
        "# split train , test\n",
        "(X_train, X_test, y_train, y_test) = train_test_split(X, Y_cat, test_size=0.15)\n",
        "\n",
        "#split train in to train , vlaidation\n",
        "(X_train, X_validation, y_train, y_validation) = train_test_split(X_train, y_train, test_size=0.15)"
      ],
      "metadata": {
        "id": "JYonBcra032h"
      },
      "execution_count": null,
      "outputs": []
    },
    {
      "cell_type": "markdown",
      "source": [
        "# **Save with pickle**"
      ],
      "metadata": {
        "id": "O_lluqhh6wK8"
      }
    },
    {
      "cell_type": "code",
      "source": [
        "with open(\"/content/drive/MyDrive/roshan_sent_tag_data/X_train.pkl\", \"wb\") as f:\n",
        "    pkl.dump(X_train,f) \n",
        "\n",
        "with open(\"/content/drive/MyDrive/roshan_sent_tag_data/X_test.pkl\", \"wb\") as f:\n",
        "    pkl.dump(X_test,f) \n",
        "\n",
        "with open(\"/content/drive/MyDrive/roshan_sent_tag_data/y_train.pkl\", \"wb\") as f:\n",
        "    pkl.dump(y_train,f) \n",
        "\n",
        "with open(\"/content/drive/MyDrive/roshan_sent_tag_data/y_test.pkl\", \"wb\") as f:\n",
        "    pkl.dump(y_test,f) \n",
        "\n",
        "with open(\"/content/drive/MyDrive/roshan_sent_tag_data/y_validation.pkl\", \"wb\") as f:\n",
        "    pkl.dump(y_validation,f) \n",
        "\n",
        "with open(\"/content/drive/MyDrive/roshan_sent_tag_data/X_validation.pkl\", \"wb\") as f:\n",
        "    pkl.dump(X_validation,f) "
      ],
      "metadata": {
        "id": "zIrqvIX43xeF"
      },
      "execution_count": null,
      "outputs": []
    },
    {
      "cell_type": "code",
      "source": [
        "X_train.shape"
      ],
      "metadata": {
        "id": "1ccV6SucpZ_S"
      },
      "execution_count": null,
      "outputs": []
    },
    {
      "cell_type": "markdown",
      "source": [
        "# **Load data**"
      ],
      "metadata": {
        "id": "nLocVykL9Ul3"
      }
    },
    {
      "cell_type": "code",
      "source": [
        "with open(\"/content/drive/MyDrive/roshan_sent_tag_data/X_train.pkl\", \"rb\") as f:\n",
        "    X_train= pkl.load(f)\n",
        "\n",
        "with open(\"/content/drive/MyDrive/roshan_sent_tag_data/X_test.pkl\", \"rb\") as f:\n",
        "    X_test= pkl.load(f)\n",
        "\n",
        "with open(\"/content/drive/MyDrive/roshan_sent_tag_data/y_train.pkl\", \"rb\") as f:\n",
        "    y_train= pkl.load(f)\n",
        "\n",
        "with open(\"/content/drive/MyDrive/roshan_sent_tag_data/y_test.pkl\", \"rb\") as f:\n",
        "    y_test= pkl.load(f)\n",
        "\n",
        "with open(\"/content/drive/MyDrive/roshan_sent_tag_data/X_validation.pkl\", \"rb\") as f:\n",
        "    X_validation= pkl.load(f)\n",
        "\n",
        "with open(\"/content/drive/MyDrive/roshan_sent_tag_data/y_validation.pkl\", \"rb\") as f:\n",
        "    y_validation= pkl.load(f)"
      ],
      "metadata": {
        "id": "Q9KPl4i57AHX"
      },
      "execution_count": null,
      "outputs": []
    },
    {
      "cell_type": "code",
      "source": [
        "with open(\"/content/drive/MyDrive/roshan_sent_tag_data/embedding_matrix.pkl\", \"rb\") as file:\n",
        "    embedding_weights = pkl.load(file)"
      ],
      "metadata": {
        "id": "LeEc1KsYqDVn"
      },
      "execution_count": null,
      "outputs": []
    },
    {
      "cell_type": "code",
      "source": [
        "X_train.shape"
      ],
      "metadata": {
        "colab": {
          "base_uri": "https://localhost:8080/"
        },
        "id": "HydSj_lGNGXr",
        "outputId": "70181284-7ca7-470f-898b-1fa0bbf15707"
      },
      "execution_count": null,
      "outputs": [
        {
          "output_type": "execute_result",
          "data": {
            "text/plain": [
              "(24906, 325)"
            ]
          },
          "metadata": {},
          "execution_count": 8
        }
      ]
    },
    {
      "cell_type": "markdown",
      "source": [
        "# **1-Bi-LSTM with Fasttext**"
      ],
      "metadata": {
        "id": "5d0N0JMTr03d"
      }
    },
    {
      "cell_type": "code",
      "source": [
        "MAX_LENGTH= 325\n",
        "vocab_size=len(word_tokenizer.word_index) + 1\n",
        "embedding_size=300"
      ],
      "metadata": {
        "id": "Ch2nlTLFxFFr"
      },
      "execution_count": null,
      "outputs": []
    },
    {
      "cell_type": "code",
      "source": [
        "X_train.shape"
      ],
      "metadata": {
        "colab": {
          "base_uri": "https://localhost:8080/"
        },
        "id": "qFKl0JcydiPW",
        "outputId": "520d98f4-cf3b-431d-b5b7-426a71d57e07"
      },
      "execution_count": null,
      "outputs": [
        {
          "output_type": "execute_result",
          "data": {
            "text/plain": [
              "(220630, 800)"
            ]
          },
          "metadata": {},
          "execution_count": 15
        }
      ]
    },
    {
      "cell_type": "code",
      "source": [
        "Bilstm_model = Sequential()\n",
        "Bilstm_model.add(Embedding(input_dim = vocab_size, output_dim= embedding_size,\n",
        "                           input_length= MAX_LENGTH , weights=[embedding_weights], trainable= True))\n",
        "Bilstm_model.add(Bidirectional(LSTM(256, return_sequences=True)))\n",
        "Bilstm_model.add(TimeDistributed(Dense(24)))\n",
        "Bilstm_model.add(Activation('softmax'))\n",
        " \n",
        "Bilstm_model.compile(loss='categorical_crossentropy',\n",
        "              optimizer=Adam(0.001),\n",
        "              metrics=[metrics.categorical_accuracy])\n",
        " \n",
        "Bilstm_model.summary()"
      ],
      "metadata": {
        "colab": {
          "base_uri": "https://localhost:8080/"
        },
        "id": "UPZTeGIVPGAB",
        "outputId": "423d91b5-f2e7-42ca-dc0f-9a4440d8cd21"
      },
      "execution_count": null,
      "outputs": [
        {
          "output_type": "stream",
          "name": "stdout",
          "text": [
            "Model: \"sequential_2\"\n",
            "_________________________________________________________________\n",
            " Layer (type)                Output Shape              Param #   \n",
            "=================================================================\n",
            " embedding_1 (Embedding)     (None, 800, 300)          43980000  \n",
            "                                                                 \n",
            " bidirectional_1 (Bidirectio  (None, 512)              1140736   \n",
            " nal)                                                            \n",
            "                                                                 \n",
            " dense (Dense)               (None, 24)                12312     \n",
            "                                                                 \n",
            " activation (Activation)     (None, 24)                0         \n",
            "                                                                 \n",
            "=================================================================\n",
            "Total params: 45,133,048\n",
            "Trainable params: 1,153,048\n",
            "Non-trainable params: 43,980,000\n",
            "_________________________________________________________________\n"
          ]
        }
      ]
    },
    {
      "cell_type": "code",
      "source": [
        "Bilstm_history = Bilstm_model.fit(X_train, y_train, epochs=100, batch_size=128,\n",
        "                                  validation_data = (X_validation , y_validation), callbacks=[tf.keras.callbacks.EarlyStopping(patience=5)])"
      ],
      "metadata": {
        "id": "C26nfGN2i3aY"
      },
      "execution_count": null,
      "outputs": []
    },
    {
      "cell_type": "markdown",
      "source": [
        "**Visualizing Training History**"
      ],
      "metadata": {
        "id": "uts2aWGXE0cw"
      }
    },
    {
      "cell_type": "code",
      "source": [
        "#Bilstm_model\n",
        "plt.plot(Bilstm_history.history['categorical_accuracy'])\n",
        "plt.plot(Bilstm_history.history['val_categorical_accuracy'])\n",
        "plt.title('model accuracy')\n",
        "plt.ylabel('accuracy')\n",
        "plt.xlabel('epoch')\n",
        "plt.legend(['train' , 'test'], loc= \"lower right\")\n",
        "plt.show()"
      ],
      "metadata": {
        "id": "tL9skHrlx3VE",
        "colab": {
          "base_uri": "https://localhost:8080/",
          "height": 295
        },
        "outputId": "a30ee32e-f8da-4a41-c7a0-556c5731674f"
      },
      "execution_count": null,
      "outputs": [
        {
          "output_type": "display_data",
          "data": {
            "text/plain": [
              "<Figure size 432x288 with 1 Axes>"
            ],
            "image/png": "[encoded data removed]"
          },
          "metadata": {
            "needs_background": "light"
          }
        }
      ]
    },
    {
      "cell_type": "markdown",
      "source": [
        "**Performance_Evaluation**"
      ],
      "metadata": {
        "id": "PsPSa5AEEq7M"
      }
    },
    {
      "cell_type": "code",
      "source": [
        "loss, accuracy = Bilstm_model.evaluate(X_test, y_test)\n",
        "print(\"Bilstm_Model \\nLoss: {0}, \\nAccuracy: {1}\".format(loss, accuracy))"
      ],
      "metadata": {
        "id": "vNzhTHNZPZbg",
        "colab": {
          "base_uri": "https://localhost:8080/"
        },
        "outputId": "5ea5ba71-8296-4e2e-e678-997a9fb253fb"
      },
      "execution_count": null,
      "outputs": [
        {
          "output_type": "stream",
          "name": "stdout",
          "text": [
            "162/162 [==============================] - 4s 22ms/step - loss: 0.0101 - categorical_accuracy: 0.9971\n",
            "Bilstm_Model \n",
            "Loss: 0.010060087777674198, \n",
            "Accuracy: 0.9970908761024475\n"
          ]
        }
      ]
    },
    {
      "cell_type": "markdown",
      "source": [
        "# **2-Simple_RNN**"
      ],
      "metadata": {
        "id": "2eT3ZYkgB5XG"
      }
    },
    {
      "cell_type": "code",
      "source": [
        "rnn_model = Sequential()\n",
        "rnn_model.add(Embedding(input_dim = vocab_size, output_dim= embedding_size,\n",
        "                           input_length= MAX_LENGTH , weights=[embedding_weights], trainable= True))\n",
        "rnn_model.add(SimpleRNN(64, return_sequences=True))\n",
        "rnn_model.add(TimeDistributed(Dense(24)))\n",
        "rnn_model.add(Activation('softmax'))\n",
        " \n",
        "rnn_model.compile(loss='categorical_crossentropy',\n",
        "              optimizer=Adam(0.001),\n",
        "              metrics=[metrics.categorical_accuracy])\n",
        " \n",
        "rnn_model.summary()"
      ],
      "metadata": {
        "colab": {
          "base_uri": "https://localhost:8080/"
        },
        "id": "F_2ERdg6B_DQ",
        "outputId": "c354edf7-003e-4d2c-aac0-a28f3e73bd61"
      },
      "execution_count": null,
      "outputs": [
        {
          "output_type": "stream",
          "name": "stdout",
          "text": [
            "Model: \"sequential_3\"\n",
            "_________________________________________________________________\n",
            " Layer (type)                Output Shape              Param #   \n",
            "=================================================================\n",
            " embedding_2 (Embedding)     (None, 325, 300)          11386200  \n",
            "                                                                 \n",
            " simple_rnn (SimpleRNN)      (None, 325, 64)           23360     \n",
            "                                                                 \n",
            " time_distributed_2 (TimeDis  (None, 325, 24)          1560      \n",
            " tributed)                                                       \n",
            "                                                                 \n",
            " activation_2 (Activation)   (None, 325, 24)           0         \n",
            "                                                                 \n",
            "=================================================================\n",
            "Total params: 11,411,120\n",
            "Trainable params: 11,411,120\n",
            "Non-trainable params: 0\n",
            "_________________________________________________________________\n"
          ]
        }
      ]
    },
    {
      "cell_type": "code",
      "source": [
        "rnn_history = rnn_model.fit(X_train, y_train, epochs=100, batch_size=128,\n",
        "                                  validation_data=(X_validation , y_validation), callbacks=[tf.keras.callbacks.EarlyStopping(patience=5)])"
      ],
      "metadata": {
        "colab": {
          "base_uri": "https://localhost:8080/"
        },
        "id": "LSB_hBdgCZQQ",
        "outputId": "a50d49a6-f5ab-475c-8146-eaf1c8317e34"
      },
      "execution_count": null,
      "outputs": [
        {
          "output_type": "stream",
          "name": "stdout",
          "text": [
            "Epoch 1/100\n",
            "195/195 [==============================] - 76s 383ms/step - loss: 0.3329 - categorical_accuracy: 0.9493 - val_loss: 0.0922 - val_categorical_accuracy: 0.9774\n",
            "Epoch 2/100\n",
            "195/195 [==============================] - 82s 423ms/step - loss: 0.0633 - categorical_accuracy: 0.9841 - val_loss: 0.0436 - val_categorical_accuracy: 0.9888\n",
            "Epoch 3/100\n",
            "195/195 [==============================] - 101s 517ms/step - loss: 0.0327 - categorical_accuracy: 0.9913 - val_loss: 0.0288 - val_categorical_accuracy: 0.9913\n",
            "Epoch 4/100\n",
            "195/195 [==============================] - 74s 378ms/step - loss: 0.0225 - categorical_accuracy: 0.9930 - val_loss: 0.0241 - val_categorical_accuracy: 0.9918\n",
            "Epoch 5/100\n",
            "195/195 [==============================] - 86s 439ms/step - loss: 0.0183 - categorical_accuracy: 0.9937 - val_loss: 0.0221 - val_categorical_accuracy: 0.9921\n",
            "Epoch 6/100\n",
            "195/195 [==============================] - 97s 497ms/step - loss: 0.0161 - categorical_accuracy: 0.9942 - val_loss: 0.0211 - val_categorical_accuracy: 0.9923\n",
            "Epoch 7/100\n",
            "195/195 [==============================] - 74s 380ms/step - loss: 0.0145 - categorical_accuracy: 0.9946 - val_loss: 0.0206 - val_categorical_accuracy: 0.9923\n",
            "Epoch 8/100\n",
            "195/195 [==============================] - 93s 476ms/step - loss: 0.0133 - categorical_accuracy: 0.9950 - val_loss: 0.0204 - val_categorical_accuracy: 0.9923\n",
            "Epoch 9/100\n",
            "195/195 [==============================] - 89s 458ms/step - loss: 0.0123 - categorical_accuracy: 0.9954 - val_loss: 0.0204 - val_categorical_accuracy: 0.9924\n",
            "Epoch 10/100\n",
            "195/195 [==============================] - 73s 375ms/step - loss: 0.0115 - categorical_accuracy: 0.9957 - val_loss: 0.0206 - val_categorical_accuracy: 0.9923\n",
            "Epoch 11/100\n",
            "195/195 [==============================] - 91s 469ms/step - loss: 0.0107 - categorical_accuracy: 0.9960 - val_loss: 0.0208 - val_categorical_accuracy: 0.9923\n",
            "Epoch 12/100\n",
            "195/195 [==============================] - 90s 460ms/step - loss: 0.0100 - categorical_accuracy: 0.9963 - val_loss: 0.0213 - val_categorical_accuracy: 0.9922\n",
            "Epoch 13/100\n",
            "195/195 [==============================] - 73s 374ms/step - loss: 0.0093 - categorical_accuracy: 0.9966 - val_loss: 0.0217 - val_categorical_accuracy: 0.9922\n",
            "Epoch 14/100\n",
            "195/195 [==============================] - 94s 481ms/step - loss: 0.0087 - categorical_accuracy: 0.9968 - val_loss: 0.0223 - val_categorical_accuracy: 0.9922\n"
          ]
        }
      ]
    },
    {
      "cell_type": "markdown",
      "source": [
        "**Visualizing Training History**"
      ],
      "metadata": {
        "id": "RGpJ3kwPFjpC"
      }
    },
    {
      "cell_type": "code",
      "source": [
        "#rnn_model\n",
        "plt.plot(rnn_history.history['categorical_accuracy'])\n",
        "plt.plot(rnn_history.history['val_categorical_accuracy'])\n",
        "plt.title('model accuracy')\n",
        "plt.ylabel('accuracy')\n",
        "plt.xlabel('epoch')\n",
        "plt.legend(['train' , 'test'], loc= \"lower right\")\n",
        "plt.show()"
      ],
      "metadata": {
        "colab": {
          "base_uri": "https://localhost:8080/",
          "height": 295
        },
        "id": "ZXZFUSxjC0hY",
        "outputId": "f0e89136-0971-4954-b92d-ab833e4d6151"
      },
      "execution_count": null,
      "outputs": [
        {
          "output_type": "display_data",
          "data": {
            "text/plain": [
              "<Figure size 432x288 with 1 Axes>"
            ],
            "image/png": "[encoded data removed]"
          },
          "metadata": {
            "needs_background": "light"
          }
        }
      ]
    },
    {
      "cell_type": "markdown",
      "source": [
        "**Performance_Evaluation**"
      ],
      "metadata": {
        "id": "Aq_Cb6AZF0KK"
      }
    },
    {
      "cell_type": "code",
      "source": [
        "loss, accuracy = rnn_model.evaluate(X_test, y_test)\n",
        "print(\"SimpleRNN_Model \\nLoss: {0}, \\nAccuracy: {1}\".format(loss, accuracy))"
      ],
      "metadata": {
        "colab": {
          "base_uri": "https://localhost:8080/"
        },
        "id": "2RC3Dw4qFk5C",
        "outputId": "f8e7bc35-558d-4bb7-84e0-2407995c1d14"
      },
      "execution_count": null,
      "outputs": [
        {
          "output_type": "stream",
          "name": "stdout",
          "text": [
            "162/162 [==============================] - 10s 61ms/step - loss: 0.0214 - categorical_accuracy: 0.9925\n",
            "SimpleRNN_Model \n",
            "Loss: 0.02140483446419239, \n",
            "Accuracy: 0.9924609065055847\n"
          ]
        }
      ]
    },
    {
      "cell_type": "markdown",
      "source": [
        "# **3-GRU**"
      ],
      "metadata": {
        "id": "NUUhaawpFHwz"
      }
    },
    {
      "cell_type": "code",
      "source": [
        "gru_model = Sequential()\n",
        "gru_model.add(Embedding(input_dim = vocab_size, output_dim= embedding_size, \n",
        "                        input_length= MAX_LENGTH, weights=[embedding_weights], trainable= True))\n",
        "gru_model.add(GRU(256, return_sequences=True))\n",
        "gru_model.add(TimeDistributed(Dense(24)))\n",
        "gru_model.add(Activation('softmax'))\n",
        " \n",
        "gru_model.compile(loss='categorical_crossentropy',\n",
        "              optimizer=Adam(0.001),\n",
        "              metrics=[metrics.categorical_accuracy])\n",
        " \n",
        "gru_model.summary()"
      ],
      "metadata": {
        "colab": {
          "base_uri": "https://localhost:8080/"
        },
        "id": "pYiP3fsMFKRC",
        "outputId": "c019e25e-428b-42cf-9399-fe03a1bcbfbb"
      },
      "execution_count": null,
      "outputs": [
        {
          "output_type": "stream",
          "name": "stdout",
          "text": [
            "Model: \"sequential_4\"\n",
            "_________________________________________________________________\n",
            " Layer (type)                Output Shape              Param #   \n",
            "=================================================================\n",
            " embedding_3 (Embedding)     (None, 325, 300)          11386200  \n",
            "                                                                 \n",
            " gru (GRU)                   (None, 325, 256)          428544    \n",
            "                                                                 \n",
            " time_distributed_3 (TimeDis  (None, 325, 24)          6168      \n",
            " tributed)                                                       \n",
            "                                                                 \n",
            " activation_3 (Activation)   (None, 325, 24)           0         \n",
            "                                                                 \n",
            "=================================================================\n",
            "Total params: 11,820,912\n",
            "Trainable params: 11,820,912\n",
            "Non-trainable params: 0\n",
            "_________________________________________________________________\n"
          ]
        }
      ]
    },
    {
      "cell_type": "code",
      "source": [
        "gru_history = gru_model.fit(X_train, y_train, epochs=100, batch_size=128,\n",
        "                      validation_data=(X_validation, y_validation), callbacks=[tf.keras.callbacks.EarlyStopping(patience=5, monitor='val_loss')])"
      ],
      "metadata": {
        "colab": {
          "base_uri": "https://localhost:8080/"
        },
        "id": "erwvNDM8VzxE",
        "outputId": "2985fe3f-7cfd-4bdf-fa1d-c57f6ee84a1a"
      },
      "execution_count": null,
      "outputs": [
        {
          "output_type": "stream",
          "name": "stdout",
          "text": [
            "Epoch 1/100\n",
            "195/195 [==============================] - 15s 64ms/step - loss: 0.2513 - categorical_accuracy: 0.9659 - val_loss: 0.0641 - val_categorical_accuracy: 0.9814\n",
            "Epoch 2/100\n",
            "195/195 [==============================] - 13s 64ms/step - loss: 0.0396 - categorical_accuracy: 0.9888 - val_loss: 0.0272 - val_categorical_accuracy: 0.9914\n",
            "Epoch 3/100\n",
            "195/195 [==============================] - 12s 63ms/step - loss: 0.0216 - categorical_accuracy: 0.9926 - val_loss: 0.0218 - val_categorical_accuracy: 0.9921\n",
            "Epoch 4/100\n",
            "195/195 [==============================] - 12s 63ms/step - loss: 0.0175 - categorical_accuracy: 0.9933 - val_loss: 0.0202 - val_categorical_accuracy: 0.9923\n",
            "Epoch 5/100\n",
            "195/195 [==============================] - 12s 64ms/step - loss: 0.0157 - categorical_accuracy: 0.9936 - val_loss: 0.0194 - val_categorical_accuracy: 0.9925\n",
            "Epoch 6/100\n",
            "195/195 [==============================] - 13s 64ms/step - loss: 0.0146 - categorical_accuracy: 0.9939 - val_loss: 0.0189 - val_categorical_accuracy: 0.9926\n",
            "Epoch 7/100\n",
            "195/195 [==============================] - 13s 68ms/step - loss: 0.0137 - categorical_accuracy: 0.9942 - val_loss: 0.0187 - val_categorical_accuracy: 0.9927\n",
            "Epoch 8/100\n",
            "195/195 [==============================] - 13s 67ms/step - loss: 0.0130 - categorical_accuracy: 0.9945 - val_loss: 0.0186 - val_categorical_accuracy: 0.9928\n",
            "Epoch 9/100\n",
            "195/195 [==============================] - 13s 66ms/step - loss: 0.0123 - categorical_accuracy: 0.9948 - val_loss: 0.0186 - val_categorical_accuracy: 0.9929\n",
            "Epoch 10/100\n",
            "195/195 [==============================] - 13s 68ms/step - loss: 0.0117 - categorical_accuracy: 0.9951 - val_loss: 0.0187 - val_categorical_accuracy: 0.9928\n",
            "Epoch 11/100\n",
            "195/195 [==============================] - 13s 66ms/step - loss: 0.0111 - categorical_accuracy: 0.9953 - val_loss: 0.0190 - val_categorical_accuracy: 0.9928\n",
            "Epoch 12/100\n",
            "195/195 [==============================] - 14s 70ms/step - loss: 0.0105 - categorical_accuracy: 0.9956 - val_loss: 0.0194 - val_categorical_accuracy: 0.9928\n",
            "Epoch 13/100\n",
            "195/195 [==============================] - 14s 70ms/step - loss: 0.0100 - categorical_accuracy: 0.9959 - val_loss: 0.0197 - val_categorical_accuracy: 0.9929\n"
          ]
        }
      ]
    },
    {
      "cell_type": "markdown",
      "source": [
        "**Visualizing Training History**"
      ],
      "metadata": {
        "id": "gFBQq3XXWljz"
      }
    },
    {
      "cell_type": "code",
      "source": [
        "#gru_model\n",
        "plt.plot(gru_history.history['categorical_accuracy'])\n",
        "plt.plot(gru_history.history['val_categorical_accuracy'])\n",
        "plt.title('model accuracy')\n",
        "plt.ylabel('accuracy')\n",
        "plt.xlabel('epoch')\n",
        "plt.legend(['train' , 'test'], loc= \"lower right\")\n",
        "plt.show()"
      ],
      "metadata": {
        "colab": {
          "base_uri": "https://localhost:8080/",
          "height": 295
        },
        "id": "siym5kXrVt2U",
        "outputId": "2a0031f7-2cc3-4cc6-ce8b-dd7a12d3e125"
      },
      "execution_count": null,
      "outputs": [
        {
          "output_type": "display_data",
          "data": {
            "text/plain": [
              "<Figure size 432x288 with 1 Axes>"
            ],
            "image/png": "[encoded data removed]"
          },
          "metadata": {
            "needs_background": "light"
          }
        }
      ]
    },
    {
      "cell_type": "markdown",
      "source": [
        "**Performance_Evaluation**"
      ],
      "metadata": {
        "id": "6SZjCrOSWqMK"
      }
    },
    {
      "cell_type": "code",
      "source": [
        "loss, accuracy = gru_model.evaluate(X_test, y_test)\n",
        "print(\"GRU_Model \\nLoss: {0}, \\nAccuracy: {1}\".format(loss, accuracy))"
      ],
      "metadata": {
        "colab": {
          "base_uri": "https://localhost:8080/"
        },
        "id": "LCESUHdaWOGU",
        "outputId": "7624e0e5-d264-4f07-a912-8c2abf974d12"
      },
      "execution_count": null,
      "outputs": [
        {
          "output_type": "stream",
          "name": "stdout",
          "text": [
            "162/162 [==============================] - 2s 11ms/step - loss: 0.0187 - categorical_accuracy: 0.9931\n",
            "GRU_Model \n",
            "Loss: 0.018708888441324234, \n",
            "Accuracy: 0.9931279420852661\n"
          ]
        }
      ]
    }
  ]
}