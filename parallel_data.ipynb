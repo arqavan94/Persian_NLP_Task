{
  "nbformat": 4,
  "nbformat_minor": 0,
  "metadata": {
    "colab": {
      "provenance": [],
      "mount_file_id": "1CDyGjiKV4XA4CVFtH5Hh8s6icvUjh71g",
      "authorship_tag": "ABX9TyMwsNM2kd5FInJtFyK7hr8m",
      "include_colab_link": true
    },
    "kernelspec": {
      "name": "python3",
      "display_name": "Python 3"
    },
    "language_info": {
      "name": "python"
    }
  },
  "cells": [
    {
      "cell_type": "markdown",
      "metadata": {
        "id": "view-in-github",
        "colab_type": "text"
      },
      "source": [
        "<a href=\"https://colab.research.google.com/github/arqavan94/Persian_NLP_Task/blob/main/parallel_data.ipynb\" target=\"_parent\"><img src=\"https://colab.research.google.com/assets/colab-badge.svg\" alt=\"Open In Colab\"/></a>"
      ]
    },
    {
      "cell_type": "code",
      "source": [
        "!pip install laserembeddings\n",
        "# !python -m laserembeddings download-models /content/drive/MyDrive/lasermodels"
      ],
      "metadata": {
        "id": "LTlKRJ9MySrf"
      },
      "execution_count": null,
      "outputs": []
    },
    {
      "cell_type": "code",
      "source": [
        "import torch\n",
        "from laserembeddings import Laser\n",
        "import numpy as np\n",
        "import random\n",
        "from torchmetrics.functional import pairwise_cosine_similarity"
      ],
      "metadata": {
        "id": "c6cjitfs8-hE"
      },
      "execution_count": null,
      "outputs": []
    },
    {
      "cell_type": "markdown",
      "source": [
        "# **Load Data**"
      ],
      "metadata": {
        "id": "eqwMkY1EgxSi"
      }
    },
    {
      "cell_type": "code",
      "source": [
        "with open(\"/content/drive/MyDrive/task/de.unpar.txt\", \"r\") as f:\n",
        "    german_sentences = [line.strip() for line in f.readlines()]\n",
        "print(\"The length of German sentences is: \" ,len(german_sentences))\n",
        "\n",
        "with open(\"/content/drive/MyDrive/task/pt.unpar.txt\", \"r\") as f:\n",
        "    portuguese_sentences = [line.strip() for line in f.readlines()]\n",
        "print(\"The length of Portuguese sentences is : \", len(portuguese_sentences))"
      ],
      "metadata": {
        "colab": {
          "base_uri": "https://localhost:8080/"
        },
        "id": "1He6jCmuyBgQ",
        "outputId": "106f59ff-3722-4d65-9a57-1e7c3856f1a2"
      },
      "execution_count": null,
      "outputs": [
        {
          "output_type": "stream",
          "name": "stdout",
          "text": [
            "The length of German sentences is:  150\n",
            "The length of Portuguese sentences is :  130\n"
          ]
        }
      ]
    },
    {
      "cell_type": "markdown",
      "source": [
        "# **Load the pre-trained laser embeddings models**"
      ],
      "metadata": {
        "id": "4wMkDWLXg52n"
      }
    },
    {
      "cell_type": "code",
      "source": [
        "path_to_bpe_codes = '/content/drive/MyDrive/lasermodels/93langs.fcodes'\n",
        "path_to_bpe_vocab = '/content/drive/MyDrive/lasermodels/93langs.fvocab'\n",
        "path_to_encoder = '/content/drive/MyDrive/lasermodels/bilstm.93langs.2018-12-26.pt'\n",
        "\n",
        "laser = Laser(path_to_bpe_codes, path_to_bpe_vocab, path_to_encoder)\n"
      ],
      "metadata": {
        "id": "DxDftN8n9DNM"
      },
      "execution_count": null,
      "outputs": []
    },
    {
      "cell_type": "code",
      "source": [
        "# Embed each sentence using the pre-trained laser embeddings model\n",
        "german_embeddings = laser.embed_sentences(german_sentences, lang=\"de\")\n",
        "portuguese_embeddings = laser.embed_sentences(portuguese_sentences, lang=\"pt\")"
      ],
      "metadata": {
        "id": "UhZEF7dM-ShC"
      },
      "execution_count": null,
      "outputs": []
    },
    {
      "cell_type": "code",
      "source": [
        "german_embeddings.shape"
      ],
      "metadata": {
        "colab": {
          "base_uri": "https://localhost:8080/"
        },
        "id": "65Ns_PO6-ZQA",
        "outputId": "dfecb3a0-8606-469f-cc50-db17876f3838"
      },
      "execution_count": null,
      "outputs": [
        {
          "output_type": "execute_result",
          "data": {
            "text/plain": [
              "(150, 1024)"
            ]
          },
          "metadata": {},
          "execution_count": 81
        }
      ]
    },
    {
      "cell_type": "code",
      "source": [
        "portuguese_embeddings.shape"
      ],
      "metadata": {
        "colab": {
          "base_uri": "https://localhost:8080/"
        },
        "id": "bc4PzX0f-ePw",
        "outputId": "c1be1ed4-ffb7-448f-dfa7-81b7a9caa1fa"
      },
      "execution_count": null,
      "outputs": [
        {
          "output_type": "execute_result",
          "data": {
            "text/plain": [
              "(130, 1024)"
            ]
          },
          "metadata": {},
          "execution_count": 82
        }
      ]
    },
    {
      "cell_type": "markdown",
      "source": [
        "# **Cosine Similarity function to extract pairwise similarity**"
      ],
      "metadata": {
        "id": "AHA9U8E0hAqv"
      }
    },
    {
      "cell_type": "code",
      "source": [
        "cosine_similarities = np.matmul(german_embeddings, portuguese_embeddings.T)\n",
        "cosine_similarities /= np.linalg.norm(german_embeddings, axis=1)[:, None]\n",
        "cosine_similarities /= np.linalg.norm(portuguese_embeddings, axis=1)[None, :]"
      ],
      "metadata": {
        "id": "UyW8AphahPqR"
      },
      "execution_count": null,
      "outputs": []
    },
    {
      "cell_type": "markdown",
      "source": [
        "# **Pick the top-100 similar sentences**"
      ],
      "metadata": {
        "id": "pRF_VfQvlcc5"
      }
    },
    {
      "cell_type": "code",
      "source": [
        "similarity_array = cosine_similarities.flatten()\n",
        "\n",
        "top_100_indices = np.argsort(similarity_array)[::-1][:100]\n",
        "top_100_pairs = [(i // cosine_similarities.shape[1], i % cosine_similarities.shape[1])\n",
        "                 for i in top_100_indices]"
      ],
      "metadata": {
        "id": "aFBtkpVfNxjO"
      },
      "execution_count": null,
      "outputs": []
    },
    {
      "cell_type": "markdown",
      "source": [
        "# **Create parallel data**"
      ],
      "metadata": {
        "id": "GKm28YTwlw3w"
      }
    },
    {
      "cell_type": "code",
      "source": [
        "with open('parallel_data.txt', 'w', encoding='utf-8') as f:\n",
        "    for i,j in top_100_pairs:\n",
        "        f.write(f'{german_sentences[i]}\\t{portuguese_sentences[j]}\\n')"
      ],
      "metadata": {
        "id": "2cWWI54Bdj4n"
      },
      "execution_count": null,
      "outputs": []
    }
  ]
}