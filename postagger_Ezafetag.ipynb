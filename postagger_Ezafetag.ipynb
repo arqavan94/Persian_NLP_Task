{
  "nbformat": 4,
  "nbformat_minor": 0,
  "metadata": {
    "colab": {
      "provenance": [],
      "include_colab_link": true
    },
    "kernelspec": {
      "name": "python3",
      "display_name": "Python 3"
    },
    "language_info": {
      "name": "python"
    },
    "accelerator": "GPU",
    "gpuClass": "standard"
  },
  "cells": [
    {
      "cell_type": "markdown",
      "metadata": {
        "id": "view-in-github",
        "colab_type": "text"
      },
      "source": [
        "<a href=\"https://colab.research.google.com/github/arqavan94/Persian_NLP_Task/blob/main/postagger_Ezafetag.ipynb\" target=\"_parent\"><img src=\"https://colab.research.google.com/assets/colab-badge.svg\" alt=\"Open In Colab\"/></a>"
      ]
    },
    {
      "cell_type": "code",
      "source": [
        "from google.colab import drive\n",
        "drive.mount('/content/drive')"
      ],
      "metadata": {
        "colab": {
          "base_uri": "https://localhost:8080/"
        },
        "id": "huyIqrAXltGp",
        "outputId": "f8c1260f-009e-4185-b466-0ab8579c517c"
      },
      "execution_count": null,
      "outputs": [
        {
          "output_type": "stream",
          "name": "stdout",
          "text": [
            "Drive already mounted at /content/drive; to attempt to forcibly remount, call drive.mount(\"/content/drive\", force_remount=True).\n"
          ]
        }
      ]
    },
    {
      "cell_type": "code",
      "source": [
        "import numpy as np\n",
        "from keras.models import Sequential\n",
        "from keras.layers import Dense, LSTM, InputLayer, Bidirectional, TimeDistributed, Embedding, Activation, SimpleRNN,GRU,Dropout,Conv1D, MaxPooling1D\n",
        "from keras.optimizers import Adam\n",
        "from matplotlib import pyplot as plt\n",
        "import seaborn as sns\n",
        "from sklearn.model_selection import train_test_split\n",
        "import tensorflow as tf\n",
        "from tensorflow.keras.preprocessing.sequence import pad_sequences\n",
        "from keras.preprocessing.text import Tokenizer\n",
        "import pickle as pkl\n",
        "from keras import metrics\n",
        "from sklearn.metrics import classification_report, confusion_matrix\n",
        "from tensorflow.keras.utils import to_categorical\n",
        "import random"
      ],
      "metadata": {
        "id": "0NogenIC99sW"
      },
      "execution_count": null,
      "outputs": []
    },
    {
      "cell_type": "markdown",
      "source": [
        "# **Prepare Data**"
      ],
      "metadata": {
        "id": "d_sPy45fLeV8"
      }
    },
    {
      "cell_type": "code",
      "source": [
        "text_labels= np.load('/content/drive/MyDrive/text_labels.npz', allow_pickle=True)\n",
        "text_labels.files\n",
        "text_labels= text_labels['arr_0']"
      ],
      "metadata": {
        "id": "mE9QQv1GxB7l"
      },
      "execution_count": null,
      "outputs": []
    },
    {
      "cell_type": "markdown",
      "source": [
        "**Split Ezafe-tag**"
      ],
      "metadata": {
        "id": "4j57LV15PInq"
      }
    },
    {
      "cell_type": "code",
      "source": [
        "words, tags = set(), set()\n",
        "for sent in text_labels:\n",
        "    for word, tag in sent:\n",
        "      if tag in ('ADVe','AJe','CONJe','DETe','NUMe','Ne','PROe','Pe','RESe'):\n",
        "          words.add(word)\n",
        "          tags.add(tag)         "
      ],
      "metadata": {
        "id": "2ftd_EhPu6R9"
      },
      "execution_count": null,
      "outputs": []
    },
    {
      "cell_type": "markdown",
      "source": [
        "# **Convert to number**"
      ],
      "metadata": {
        "id": "-HZlNHkWQpSU"
      }
    },
    {
      "cell_type": "code",
      "source": [
        "word2idx = {w: i + 2 for i, w in enumerate(list(words))}\n",
        "word2idx['PAD'] = 0\n",
        "word2idx['UNK'] = 1\n",
        "tag2idx = {t: i+1 for i, t in enumerate(list(tags))}\n",
        "idx2word = {i + 2: w for i, w in enumerate(list(words))}\n",
        "idx2tag = {i+1: t for i, t in enumerate(list(tags))}\n",
        "tag2idx['<PAD>'] = 0"
      ],
      "metadata": {
        "id": "N-2r8YvAvnS8"
      },
      "execution_count": null,
      "outputs": []
    },
    {
      "cell_type": "code",
      "source": [
        "X=[]\n",
        "y =[]\n",
        "for sent in text_labels:\n",
        "  word2idxlist , tag2idxlist =[],[]\n",
        "  flag= False\n",
        "  for w,t in sent:\n",
        "    if t in ('ADVe','AJe','CONJe','DETe','NUMe','Ne','PROe','Pe','RESe'):\n",
        "      word2idxlist.append(word2idx[w])\n",
        "      tag2idxlist.append(tag2idx[t])\n",
        "      flag=True\n",
        "  if flag:\n",
        "    X.append(word2idxlist)\n",
        "    y.append(tag2idxlist)"
      ],
      "metadata": {
        "id": "yEaVWgMIxKoh"
      },
      "execution_count": null,
      "outputs": []
    },
    {
      "cell_type": "code",
      "source": [
        "lengths=[len(seq) for seq in X]\n",
        "print(\"Length of longest sentence: {}\".format(max(lengths)))"
      ],
      "metadata": {
        "colab": {
          "base_uri": "https://localhost:8080/"
        },
        "id": "O86iCk-wTDh7",
        "outputId": "90e354e1-fbf0-4735-fdfc-368b76880ade"
      },
      "execution_count": null,
      "outputs": [
        {
          "output_type": "stream",
          "name": "stdout",
          "text": [
            "Length of longest sentence: 219\n"
          ]
        }
      ]
    },
    {
      "cell_type": "code",
      "source": [
        "sns.boxplot(lengths)\n",
        "plt.show()"
      ],
      "metadata": {
        "colab": {
          "base_uri": "https://localhost:8080/",
          "height": 430
        },
        "id": "DCUGZtzugGd8",
        "outputId": "aae2ab8a-c836-4dc0-cb26-abb5f42453a7"
      },
      "execution_count": null,
      "outputs": [
        {
          "output_type": "display_data",
          "data": {
            "text/plain": [
              "<Figure size 640x480 with 1 Axes>"
            ],
            "image/png": "[encoded data removed]"
          },
          "metadata": {}
        }
      ]
    },
    {
      "cell_type": "markdown",
      "source": [
        "# **Pad sequences**"
      ],
      "metadata": {
        "id": "kq3BlfveTLw3"
      }
    },
    {
      "cell_type": "code",
      "source": [
        "max_len = 120\n",
        "X = pad_sequences(X, maxlen=max_len, padding='post')\n",
        "y = pad_sequences(y, maxlen=max_len, padding='post')"
      ],
      "metadata": {
        "id": "RZEz-O4-zDve"
      },
      "execution_count": null,
      "outputs": []
    },
    {
      "cell_type": "markdown",
      "source": [
        "# **Convert to categorical (one_hot)**"
      ],
      "metadata": {
        "id": "H6H356ppTfVX"
      }
    },
    {
      "cell_type": "code",
      "source": [
        "Y_cat = tf.keras.utils.to_categorical(y)"
      ],
      "metadata": {
        "id": "RPzm2kK3TiOq"
      },
      "execution_count": null,
      "outputs": []
    },
    {
      "cell_type": "markdown",
      "source": [
        "# **Split data to train, test, validation**"
      ],
      "metadata": {
        "id": "XGOwy3LJT3el"
      }
    },
    {
      "cell_type": "code",
      "source": [
        "# split train , test\n",
        "(X_train, X_test, y_train, y_test) = train_test_split(X, Y_cat, test_size=0.2, random_state=42)\n",
        "\n",
        "#split train in to train , vlaidation\n",
        "(X_train, X_validation, y_train, y_validation) = train_test_split(X_train, y_train, test_size=0.2,random_state=42)"
      ],
      "metadata": {
        "id": "yLrXB817T5gi"
      },
      "execution_count": null,
      "outputs": []
    },
    {
      "cell_type": "markdown",
      "source": [
        "**Save data as pickle**"
      ],
      "metadata": {
        "id": "bf3LfDzFbL_o"
      }
    },
    {
      "cell_type": "code",
      "source": [
        "with open(\"/content/drive/MyDrive/roshan_sent_tag_data/new_data/X_train_e.pkl\", \"wb\") as f:\n",
        "    pkl.dump(X_train,f) \n",
        "\n",
        "with open(\"/content/drive/MyDrive/roshan_sent_tag_data/new_data/X_test_e.pkl\", \"wb\") as f:\n",
        "    pkl.dump(X_test,f) \n",
        "\n",
        "with open(\"/content/drive/MyDrive/roshan_sent_tag_data/new_data/y_train_e.pkl\", \"wb\") as f:\n",
        "    pkl.dump(y_train,f) \n",
        "\n",
        "with open(\"/content/drive/MyDrive/roshan_sent_tag_data/new_data/y_test_e.pkl\", \"wb\") as f:\n",
        "    pkl.dump(y_test,f) \n",
        "\n",
        "with open(\"/content/drive/MyDrive/roshan_sent_tag_data/new_data/y_validation_e.pkl\", \"wb\") as f:\n",
        "    pkl.dump(y_validation,f) \n",
        "\n",
        "with open(\"/content/drive/MyDrive/roshan_sent_tag_data/new_data/X_validation_e.pkl\", \"wb\") as f:\n",
        "    pkl.dump(X_validation,f)"
      ],
      "metadata": {
        "id": "Yldu-_qrbA_9"
      },
      "execution_count": null,
      "outputs": []
    },
    {
      "cell_type": "code",
      "source": [
        "with open(\"/content/drive/MyDrive/roshan_sent_tag_data/new_data/words.pkl\", \"wb\") as f:\n",
        "    pkl.dump(words,f)"
      ],
      "metadata": {
        "id": "KEIKlrV2Lkjv"
      },
      "execution_count": null,
      "outputs": []
    },
    {
      "cell_type": "code",
      "source": [
        "with open(\"/content/drive/MyDrive/roshan_sent_tag_data/new_data/tags.pkl\", \"wb\") as f:\n",
        "    pkl.dump(tags,f)"
      ],
      "metadata": {
        "id": "ni44xAlAOPH_"
      },
      "execution_count": null,
      "outputs": []
    },
    {
      "cell_type": "code",
      "source": [
        "set(tags)"
      ],
      "metadata": {
        "colab": {
          "base_uri": "https://localhost:8080/"
        },
        "id": "6ItXzR9SlJwc",
        "outputId": "cc51f416-3666-4b47-d8af-e06cf7697c77"
      },
      "execution_count": null,
      "outputs": [
        {
          "output_type": "execute_result",
          "data": {
            "text/plain": [
              "{'ADVe', 'AJe', 'CONJe', 'DETe', 'NUMe', 'Ne', 'PROe', 'Pe', 'RESe'}"
            ]
          },
          "metadata": {},
          "execution_count": 26
        }
      ]
    },
    {
      "cell_type": "markdown",
      "source": [
        "# **Load Data**"
      ],
      "metadata": {
        "id": "7XvbNXllbVvq"
      }
    },
    {
      "cell_type": "code",
      "source": [
        "with open(\"/content/drive/MyDrive/roshan_sent_tag_data/new_data/X_train_e.pkl\", \"rb\") as f:\n",
        "    X_train= pkl.load(f)\n",
        "\n",
        "with open(\"/content/drive/MyDrive/roshan_sent_tag_data/new_data/X_test_e.pkl\", \"rb\") as f:\n",
        "    X_test= pkl.load(f)\n",
        "\n",
        "with open(\"/content/drive/MyDrive/roshan_sent_tag_data/new_data/y_train_e.pkl\", \"rb\") as f:\n",
        "    y_train= pkl.load(f)\n",
        "\n",
        "with open(\"/content/drive/MyDrive/roshan_sent_tag_data/new_data/y_test_e.pkl\", \"rb\") as f:\n",
        "    y_test= pkl.load(f)\n",
        "\n",
        "with open(\"/content/drive/MyDrive/roshan_sent_tag_data/new_data/X_validation_e.pkl\", \"rb\") as f:\n",
        "    X_validation= pkl.load(f)\n",
        "\n",
        "with open(\"/content/drive/MyDrive/roshan_sent_tag_data/new_data/y_validation_e.pkl\", \"rb\") as f:\n",
        "    y_validation= pkl.load(f)"
      ],
      "metadata": {
        "id": "-ZsBIBoRbiYl"
      },
      "execution_count": null,
      "outputs": []
    },
    {
      "cell_type": "code",
      "source": [
        "with open(\"/content/drive/MyDrive/roshan_sent_tag_data/new_data/words.pkl\", \"rb\") as f:\n",
        "    words= pkl.load(f)"
      ],
      "metadata": {
        "id": "5tZrh6R9Lu6N"
      },
      "execution_count": null,
      "outputs": []
    },
    {
      "cell_type": "code",
      "source": [
        "with open(\"/content/drive/MyDrive/roshan_sent_tag_data/new_data/tags.pkl\", \"rb\") as f:\n",
        "    tags= pkl.load(f)"
      ],
      "metadata": {
        "id": "TktZkskHOTke"
      },
      "execution_count": null,
      "outputs": []
    },
    {
      "cell_type": "code",
      "source": [
        "embedding_size= 100"
      ],
      "metadata": {
        "id": "22cMaj6tUTtS"
      },
      "execution_count": null,
      "outputs": []
    },
    {
      "cell_type": "markdown",
      "source": [
        "# **1-LSTM**\n"
      ],
      "metadata": {
        "id": "ormsgaLCvEJD"
      }
    },
    {
      "cell_type": "code",
      "source": [
        "from keras.optimizers.legacy.gradient_descent import SGD\n",
        "lstm_model = Sequential()\n",
        "lstm_model.add(Embedding(input_dim = len(words) + 2, output_dim= embedding_size, \n",
        "                        input_length= 120))\n",
        "\n",
        "lstm_model.add(LSTM(32, return_sequences=True))\n",
        "lstm_model.add(Dropout(0.25))\n",
        "# lstm_model.add(TimeDistributed(Dense(8)))\n",
        "lstm_model.add(TimeDistributed(Dense(len(tags)+1)))\n",
        "lstm_model.add(Activation('softmax'))\n",
        " \n",
        "lstm_model.compile(loss='categorical_crossentropy',\n",
        "              optimizer= SGD(0.05),\n",
        "              metrics=[metrics.categorical_accuracy])\n",
        " \n",
        "lstm_model.summary()"
      ],
      "metadata": {
        "colab": {
          "base_uri": "https://localhost:8080/"
        },
        "id": "YNs8acS4vIS1",
        "outputId": "f5867ad7-36db-4500-dd45-d77341d88bfb"
      },
      "execution_count": null,
      "outputs": [
        {
          "output_type": "stream",
          "name": "stdout",
          "text": [
            "Model: \"sequential_1\"\n",
            "_________________________________________________________________\n",
            " Layer (type)                Output Shape              Param #   \n",
            "=================================================================\n",
            " embedding (Embedding)       (None, 120, 100)          4256100   \n",
            "                                                                 \n",
            " lstm (LSTM)                 (None, 120, 32)           17024     \n",
            "                                                                 \n",
            " dropout (Dropout)           (None, 120, 32)           0         \n",
            "                                                                 \n",
            " time_distributed (TimeDistr  (None, 120, 10)          330       \n",
            " ibuted)                                                         \n",
            "                                                                 \n",
            " activation (Activation)     (None, 120, 10)           0         \n",
            "                                                                 \n",
            "=================================================================\n",
            "Total params: 4,273,454\n",
            "Trainable params: 4,273,454\n",
            "Non-trainable params: 0\n",
            "_________________________________________________________________\n"
          ]
        }
      ]
    },
    {
      "cell_type": "code",
      "source": [
        "lstm_history = lstm_model.fit(X_train, y_train, epochs=100, batch_size=32,\n",
        "                      validation_data=(X_validation, y_validation), callbacks=[tf.keras.callbacks.EarlyStopping(patience=5, monitor='val_loss')])"
      ],
      "metadata": {
        "colab": {
          "base_uri": "https://localhost:8080/"
        },
        "id": "RfEUXb4CvVXm",
        "outputId": "d24b722f-00ea-4f4b-eee4-876a24caa1a2"
      },
      "execution_count": null,
      "outputs": [
        {
          "output_type": "stream",
          "name": "stdout",
          "text": [
            "Epoch 1/100\n",
            "6391/6391 [==============================] - 63s 9ms/step - loss: 0.0650 - categorical_accuracy: 0.9861 - val_loss: 0.0444 - val_categorical_accuracy: 0.9895\n",
            "Epoch 2/100\n",
            "6391/6391 [==============================] - 53s 8ms/step - loss: 0.0429 - categorical_accuracy: 0.9895 - val_loss: 0.0415 - val_categorical_accuracy: 0.9895\n",
            "Epoch 3/100\n",
            "6391/6391 [==============================] - 53s 8ms/step - loss: 0.0411 - categorical_accuracy: 0.9895 - val_loss: 0.0403 - val_categorical_accuracy: 0.9895\n",
            "Epoch 4/100\n",
            "6391/6391 [==============================] - 52s 8ms/step - loss: 0.0400 - categorical_accuracy: 0.9895 - val_loss: 0.0393 - val_categorical_accuracy: 0.9895\n",
            "Epoch 5/100\n",
            "6391/6391 [==============================] - 52s 8ms/step - loss: 0.0390 - categorical_accuracy: 0.9895 - val_loss: 0.0382 - val_categorical_accuracy: 0.9895\n",
            "Epoch 6/100\n",
            "6391/6391 [==============================] - 48s 8ms/step - loss: 0.0378 - categorical_accuracy: 0.9896 - val_loss: 0.0370 - val_categorical_accuracy: 0.9896\n",
            "Epoch 7/100\n",
            "6391/6391 [==============================] - 49s 8ms/step - loss: 0.0365 - categorical_accuracy: 0.9903 - val_loss: 0.0356 - val_categorical_accuracy: 0.9909\n",
            "Epoch 8/100\n",
            "6391/6391 [==============================] - 53s 8ms/step - loss: 0.0352 - categorical_accuracy: 0.9908 - val_loss: 0.0342 - val_categorical_accuracy: 0.9909\n",
            "Epoch 9/100\n",
            "6391/6391 [==============================] - 49s 8ms/step - loss: 0.0336 - categorical_accuracy: 0.9909 - val_loss: 0.0325 - val_categorical_accuracy: 0.9909\n",
            "Epoch 10/100\n",
            "6391/6391 [==============================] - 48s 8ms/step - loss: 0.0319 - categorical_accuracy: 0.9911 - val_loss: 0.0307 - val_categorical_accuracy: 0.9913\n",
            "Epoch 11/100\n",
            "6391/6391 [==============================] - 52s 8ms/step - loss: 0.0301 - categorical_accuracy: 0.9914 - val_loss: 0.0288 - val_categorical_accuracy: 0.9916\n",
            "Epoch 12/100\n",
            "6391/6391 [==============================] - 54s 8ms/step - loss: 0.0283 - categorical_accuracy: 0.9917 - val_loss: 0.0269 - val_categorical_accuracy: 0.9917\n",
            "Epoch 13/100\n",
            "6391/6391 [==============================] - 53s 8ms/step - loss: 0.0265 - categorical_accuracy: 0.9920 - val_loss: 0.0250 - val_categorical_accuracy: 0.9922\n",
            "Epoch 14/100\n",
            "6391/6391 [==============================] - 53s 8ms/step - loss: 0.0247 - categorical_accuracy: 0.9925 - val_loss: 0.0232 - val_categorical_accuracy: 0.9929\n",
            "Epoch 15/100\n",
            "6391/6391 [==============================] - 47s 7ms/step - loss: 0.0230 - categorical_accuracy: 0.9929 - val_loss: 0.0215 - val_categorical_accuracy: 0.9932\n",
            "Epoch 16/100\n",
            "6391/6391 [==============================] - 53s 8ms/step - loss: 0.0215 - categorical_accuracy: 0.9934 - val_loss: 0.0200 - val_categorical_accuracy: 0.9937\n",
            "Epoch 17/100\n",
            "6391/6391 [==============================] - 53s 8ms/step - loss: 0.0202 - categorical_accuracy: 0.9938 - val_loss: 0.0187 - val_categorical_accuracy: 0.9941\n",
            "Epoch 18/100\n",
            "6391/6391 [==============================] - 53s 8ms/step - loss: 0.0190 - categorical_accuracy: 0.9943 - val_loss: 0.0176 - val_categorical_accuracy: 0.9946\n",
            "Epoch 19/100\n",
            "6391/6391 [==============================] - 54s 8ms/step - loss: 0.0179 - categorical_accuracy: 0.9946 - val_loss: 0.0166 - val_categorical_accuracy: 0.9949\n",
            "Epoch 20/100\n",
            "6391/6391 [==============================] - 53s 8ms/step - loss: 0.0169 - categorical_accuracy: 0.9949 - val_loss: 0.0157 - val_categorical_accuracy: 0.9953\n",
            "Epoch 21/100\n",
            "6391/6391 [==============================] - 52s 8ms/step - loss: 0.0160 - categorical_accuracy: 0.9952 - val_loss: 0.0149 - val_categorical_accuracy: 0.9956\n",
            "Epoch 22/100\n",
            "6391/6391 [==============================] - 53s 8ms/step - loss: 0.0153 - categorical_accuracy: 0.9954 - val_loss: 0.0141 - val_categorical_accuracy: 0.9958\n",
            "Epoch 23/100\n",
            "6391/6391 [==============================] - 48s 7ms/step - loss: 0.0146 - categorical_accuracy: 0.9957 - val_loss: 0.0135 - val_categorical_accuracy: 0.9959\n",
            "Epoch 24/100\n",
            "6391/6391 [==============================] - 54s 8ms/step - loss: 0.0139 - categorical_accuracy: 0.9958 - val_loss: 0.0128 - val_categorical_accuracy: 0.9960\n",
            "Epoch 25/100\n",
            "6391/6391 [==============================] - 52s 8ms/step - loss: 0.0133 - categorical_accuracy: 0.9960 - val_loss: 0.0123 - val_categorical_accuracy: 0.9962\n",
            "Epoch 26/100\n",
            "6391/6391 [==============================] - 53s 8ms/step - loss: 0.0127 - categorical_accuracy: 0.9961 - val_loss: 0.0118 - val_categorical_accuracy: 0.9963\n",
            "Epoch 27/100\n",
            "6391/6391 [==============================] - 54s 8ms/step - loss: 0.0122 - categorical_accuracy: 0.9962 - val_loss: 0.0113 - val_categorical_accuracy: 0.9964\n",
            "Epoch 28/100\n",
            "6391/6391 [==============================] - 57s 9ms/step - loss: 0.0117 - categorical_accuracy: 0.9963 - val_loss: 0.0108 - val_categorical_accuracy: 0.9965\n",
            "Epoch 29/100\n",
            "6391/6391 [==============================] - 54s 9ms/step - loss: 0.0113 - categorical_accuracy: 0.9965 - val_loss: 0.0104 - val_categorical_accuracy: 0.9967\n",
            "Epoch 30/100\n",
            "6391/6391 [==============================] - 54s 8ms/step - loss: 0.0108 - categorical_accuracy: 0.9966 - val_loss: 0.0100 - val_categorical_accuracy: 0.9968\n",
            "Epoch 31/100\n",
            "6391/6391 [==============================] - 53s 8ms/step - loss: 0.0105 - categorical_accuracy: 0.9967 - val_loss: 0.0097 - val_categorical_accuracy: 0.9970\n",
            "Epoch 32/100\n",
            "6391/6391 [==============================] - 51s 8ms/step - loss: 0.0101 - categorical_accuracy: 0.9969 - val_loss: 0.0093 - val_categorical_accuracy: 0.9971\n",
            "Epoch 33/100\n",
            "6391/6391 [==============================] - 49s 8ms/step - loss: 0.0098 - categorical_accuracy: 0.9970 - val_loss: 0.0090 - val_categorical_accuracy: 0.9972\n",
            "Epoch 34/100\n",
            "6391/6391 [==============================] - 52s 8ms/step - loss: 0.0095 - categorical_accuracy: 0.9971 - val_loss: 0.0087 - val_categorical_accuracy: 0.9973\n",
            "Epoch 35/100\n",
            "6391/6391 [==============================] - 49s 8ms/step - loss: 0.0092 - categorical_accuracy: 0.9972 - val_loss: 0.0084 - val_categorical_accuracy: 0.9974\n",
            "Epoch 36/100\n",
            "6391/6391 [==============================] - 47s 7ms/step - loss: 0.0089 - categorical_accuracy: 0.9973 - val_loss: 0.0082 - val_categorical_accuracy: 0.9975\n",
            "Epoch 37/100\n",
            "6391/6391 [==============================] - 57s 9ms/step - loss: 0.0086 - categorical_accuracy: 0.9974 - val_loss: 0.0079 - val_categorical_accuracy: 0.9976\n",
            "Epoch 38/100\n",
            "6391/6391 [==============================] - 55s 9ms/step - loss: 0.0084 - categorical_accuracy: 0.9975 - val_loss: 0.0077 - val_categorical_accuracy: 0.9976\n",
            "Epoch 39/100\n",
            "6391/6391 [==============================] - 53s 8ms/step - loss: 0.0082 - categorical_accuracy: 0.9975 - val_loss: 0.0075 - val_categorical_accuracy: 0.9977\n",
            "Epoch 40/100\n",
            "6391/6391 [==============================] - 49s 8ms/step - loss: 0.0079 - categorical_accuracy: 0.9976 - val_loss: 0.0073 - val_categorical_accuracy: 0.9977\n",
            "Epoch 41/100\n",
            "6391/6391 [==============================] - 53s 8ms/step - loss: 0.0077 - categorical_accuracy: 0.9977 - val_loss: 0.0071 - val_categorical_accuracy: 0.9978\n",
            "Epoch 42/100\n",
            "6391/6391 [==============================] - 52s 8ms/step - loss: 0.0075 - categorical_accuracy: 0.9977 - val_loss: 0.0070 - val_categorical_accuracy: 0.9978\n",
            "Epoch 43/100\n",
            "6391/6391 [==============================] - 55s 9ms/step - loss: 0.0074 - categorical_accuracy: 0.9978 - val_loss: 0.0068 - val_categorical_accuracy: 0.9979\n",
            "Epoch 44/100\n",
            "6391/6391 [==============================] - 53s 8ms/step - loss: 0.0072 - categorical_accuracy: 0.9978 - val_loss: 0.0067 - val_categorical_accuracy: 0.9979\n",
            "Epoch 45/100\n",
            "6391/6391 [==============================] - 52s 8ms/step - loss: 0.0070 - categorical_accuracy: 0.9979 - val_loss: 0.0065 - val_categorical_accuracy: 0.9980\n",
            "Epoch 46/100\n",
            "6391/6391 [==============================] - 48s 7ms/step - loss: 0.0069 - categorical_accuracy: 0.9979 - val_loss: 0.0064 - val_categorical_accuracy: 0.9980\n",
            "Epoch 47/100\n",
            "6391/6391 [==============================] - 57s 9ms/step - loss: 0.0067 - categorical_accuracy: 0.9980 - val_loss: 0.0062 - val_categorical_accuracy: 0.9980\n",
            "Epoch 48/100\n",
            "6391/6391 [==============================] - 55s 9ms/step - loss: 0.0066 - categorical_accuracy: 0.9980 - val_loss: 0.0061 - val_categorical_accuracy: 0.9981\n",
            "Epoch 49/100\n",
            "6391/6391 [==============================] - 48s 8ms/step - loss: 0.0064 - categorical_accuracy: 0.9980 - val_loss: 0.0060 - val_categorical_accuracy: 0.9981\n",
            "Epoch 50/100\n",
            "6391/6391 [==============================] - 57s 9ms/step - loss: 0.0063 - categorical_accuracy: 0.9981 - val_loss: 0.0059 - val_categorical_accuracy: 0.9981\n",
            "Epoch 51/100\n",
            "6391/6391 [==============================] - 49s 8ms/step - loss: 0.0062 - categorical_accuracy: 0.9981 - val_loss: 0.0058 - val_categorical_accuracy: 0.9982\n",
            "Epoch 52/100\n",
            "6391/6391 [==============================] - 56s 9ms/step - loss: 0.0061 - categorical_accuracy: 0.9982 - val_loss: 0.0057 - val_categorical_accuracy: 0.9982\n",
            "Epoch 53/100\n",
            "6391/6391 [==============================] - 50s 8ms/step - loss: 0.0060 - categorical_accuracy: 0.9982 - val_loss: 0.0056 - val_categorical_accuracy: 0.9983\n",
            "Epoch 54/100\n",
            "6391/6391 [==============================] - 49s 8ms/step - loss: 0.0058 - categorical_accuracy: 0.9982 - val_loss: 0.0055 - val_categorical_accuracy: 0.9984\n",
            "Epoch 55/100\n",
            "6391/6391 [==============================] - 52s 8ms/step - loss: 0.0057 - categorical_accuracy: 0.9983 - val_loss: 0.0054 - val_categorical_accuracy: 0.9984\n",
            "Epoch 56/100\n",
            "6391/6391 [==============================] - 49s 8ms/step - loss: 0.0056 - categorical_accuracy: 0.9983 - val_loss: 0.0053 - val_categorical_accuracy: 0.9984\n",
            "Epoch 57/100\n",
            "6391/6391 [==============================] - 49s 8ms/step - loss: 0.0056 - categorical_accuracy: 0.9983 - val_loss: 0.0052 - val_categorical_accuracy: 0.9984\n",
            "Epoch 58/100\n",
            "6391/6391 [==============================] - 53s 8ms/step - loss: 0.0054 - categorical_accuracy: 0.9984 - val_loss: 0.0052 - val_categorical_accuracy: 0.9985\n",
            "Epoch 59/100\n",
            "6391/6391 [==============================] - 54s 8ms/step - loss: 0.0054 - categorical_accuracy: 0.9984 - val_loss: 0.0051 - val_categorical_accuracy: 0.9985\n",
            "Epoch 60/100\n",
            "6391/6391 [==============================] - 58s 9ms/step - loss: 0.0053 - categorical_accuracy: 0.9984 - val_loss: 0.0050 - val_categorical_accuracy: 0.9985\n",
            "Epoch 61/100\n",
            "6391/6391 [==============================] - 49s 8ms/step - loss: 0.0052 - categorical_accuracy: 0.9984 - val_loss: 0.0050 - val_categorical_accuracy: 0.9985\n",
            "Epoch 62/100\n",
            "6391/6391 [==============================] - 49s 8ms/step - loss: 0.0051 - categorical_accuracy: 0.9985 - val_loss: 0.0049 - val_categorical_accuracy: 0.9985\n",
            "Epoch 63/100\n",
            "6391/6391 [==============================] - 52s 8ms/step - loss: 0.0050 - categorical_accuracy: 0.9985 - val_loss: 0.0048 - val_categorical_accuracy: 0.9985\n",
            "Epoch 64/100\n",
            "6391/6391 [==============================] - 51s 8ms/step - loss: 0.0050 - categorical_accuracy: 0.9985 - val_loss: 0.0048 - val_categorical_accuracy: 0.9985\n",
            "Epoch 65/100\n",
            "6391/6391 [==============================] - 55s 9ms/step - loss: 0.0049 - categorical_accuracy: 0.9985 - val_loss: 0.0047 - val_categorical_accuracy: 0.9985\n",
            "Epoch 66/100\n",
            "6391/6391 [==============================] - 54s 8ms/step - loss: 0.0048 - categorical_accuracy: 0.9985 - val_loss: 0.0047 - val_categorical_accuracy: 0.9986\n",
            "Epoch 67/100\n",
            "6391/6391 [==============================] - 51s 8ms/step - loss: 0.0048 - categorical_accuracy: 0.9985 - val_loss: 0.0046 - val_categorical_accuracy: 0.9986\n",
            "Epoch 68/100\n",
            "6391/6391 [==============================] - 52s 8ms/step - loss: 0.0047 - categorical_accuracy: 0.9986 - val_loss: 0.0046 - val_categorical_accuracy: 0.9986\n",
            "Epoch 69/100\n",
            "6391/6391 [==============================] - 55s 9ms/step - loss: 0.0046 - categorical_accuracy: 0.9986 - val_loss: 0.0045 - val_categorical_accuracy: 0.9986\n",
            "Epoch 70/100\n",
            "6391/6391 [==============================] - 49s 8ms/step - loss: 0.0046 - categorical_accuracy: 0.9986 - val_loss: 0.0045 - val_categorical_accuracy: 0.9986\n",
            "Epoch 71/100\n",
            "6391/6391 [==============================] - 56s 9ms/step - loss: 0.0045 - categorical_accuracy: 0.9986 - val_loss: 0.0044 - val_categorical_accuracy: 0.9986\n",
            "Epoch 72/100\n",
            "6391/6391 [==============================] - 50s 8ms/step - loss: 0.0045 - categorical_accuracy: 0.9986 - val_loss: 0.0044 - val_categorical_accuracy: 0.9986\n",
            "Epoch 73/100\n",
            "6391/6391 [==============================] - 56s 9ms/step - loss: 0.0044 - categorical_accuracy: 0.9986 - val_loss: 0.0044 - val_categorical_accuracy: 0.9986\n",
            "Epoch 74/100\n",
            "6391/6391 [==============================] - 55s 9ms/step - loss: 0.0044 - categorical_accuracy: 0.9986 - val_loss: 0.0043 - val_categorical_accuracy: 0.9986\n",
            "Epoch 75/100\n",
            "6391/6391 [==============================] - 54s 8ms/step - loss: 0.0043 - categorical_accuracy: 0.9986 - val_loss: 0.0043 - val_categorical_accuracy: 0.9986\n",
            "Epoch 76/100\n",
            "6391/6391 [==============================] - 56s 9ms/step - loss: 0.0043 - categorical_accuracy: 0.9987 - val_loss: 0.0042 - val_categorical_accuracy: 0.9986\n",
            "Epoch 77/100\n",
            "6391/6391 [==============================] - 53s 8ms/step - loss: 0.0042 - categorical_accuracy: 0.9987 - val_loss: 0.0042 - val_categorical_accuracy: 0.9986\n",
            "Epoch 78/100\n",
            "6391/6391 [==============================] - 57s 9ms/step - loss: 0.0042 - categorical_accuracy: 0.9987 - val_loss: 0.0042 - val_categorical_accuracy: 0.9986\n",
            "Epoch 79/100\n",
            "6391/6391 [==============================] - 49s 8ms/step - loss: 0.0042 - categorical_accuracy: 0.9987 - val_loss: 0.0041 - val_categorical_accuracy: 0.9986\n",
            "Epoch 80/100\n",
            "6391/6391 [==============================] - 49s 8ms/step - loss: 0.0041 - categorical_accuracy: 0.9987 - val_loss: 0.0041 - val_categorical_accuracy: 0.9986\n",
            "Epoch 81/100\n",
            "6391/6391 [==============================] - 57s 9ms/step - loss: 0.0041 - categorical_accuracy: 0.9987 - val_loss: 0.0041 - val_categorical_accuracy: 0.9987\n",
            "Epoch 82/100\n",
            "6391/6391 [==============================] - 53s 8ms/step - loss: 0.0040 - categorical_accuracy: 0.9987 - val_loss: 0.0041 - val_categorical_accuracy: 0.9987\n",
            "Epoch 83/100\n",
            "6391/6391 [==============================] - 54s 8ms/step - loss: 0.0040 - categorical_accuracy: 0.9987 - val_loss: 0.0040 - val_categorical_accuracy: 0.9987\n",
            "Epoch 84/100\n",
            "6391/6391 [==============================] - 54s 8ms/step - loss: 0.0039 - categorical_accuracy: 0.9987 - val_loss: 0.0040 - val_categorical_accuracy: 0.9987\n",
            "Epoch 85/100\n",
            "6391/6391 [==============================] - 54s 8ms/step - loss: 0.0039 - categorical_accuracy: 0.9987 - val_loss: 0.0040 - val_categorical_accuracy: 0.9987\n",
            "Epoch 86/100\n",
            "6391/6391 [==============================] - 57s 9ms/step - loss: 0.0039 - categorical_accuracy: 0.9988 - val_loss: 0.0039 - val_categorical_accuracy: 0.9987\n",
            "Epoch 87/100\n",
            "6391/6391 [==============================] - 50s 8ms/step - loss: 0.0038 - categorical_accuracy: 0.9988 - val_loss: 0.0039 - val_categorical_accuracy: 0.9987\n",
            "Epoch 88/100\n",
            "6391/6391 [==============================] - 58s 9ms/step - loss: 0.0038 - categorical_accuracy: 0.9988 - val_loss: 0.0039 - val_categorical_accuracy: 0.9987\n",
            "Epoch 89/100\n",
            "6391/6391 [==============================] - 54s 8ms/step - loss: 0.0038 - categorical_accuracy: 0.9988 - val_loss: 0.0039 - val_categorical_accuracy: 0.9987\n",
            "Epoch 90/100\n",
            "6391/6391 [==============================] - 49s 8ms/step - loss: 0.0037 - categorical_accuracy: 0.9988 - val_loss: 0.0039 - val_categorical_accuracy: 0.9988\n",
            "Epoch 91/100\n",
            "6391/6391 [==============================] - 52s 8ms/step - loss: 0.0037 - categorical_accuracy: 0.9988 - val_loss: 0.0039 - val_categorical_accuracy: 0.9987\n",
            "Epoch 92/100\n",
            "6391/6391 [==============================] - 50s 8ms/step - loss: 0.0037 - categorical_accuracy: 0.9988 - val_loss: 0.0038 - val_categorical_accuracy: 0.9988\n",
            "Epoch 93/100\n",
            "6391/6391 [==============================] - 57s 9ms/step - loss: 0.0036 - categorical_accuracy: 0.9988 - val_loss: 0.0038 - val_categorical_accuracy: 0.9988\n",
            "Epoch 94/100\n",
            "6391/6391 [==============================] - 49s 8ms/step - loss: 0.0036 - categorical_accuracy: 0.9988 - val_loss: 0.0038 - val_categorical_accuracy: 0.9988\n",
            "Epoch 95/100\n",
            "6391/6391 [==============================] - 54s 8ms/step - loss: 0.0036 - categorical_accuracy: 0.9988 - val_loss: 0.0038 - val_categorical_accuracy: 0.9988\n",
            "Epoch 96/100\n",
            "6391/6391 [==============================] - 57s 9ms/step - loss: 0.0036 - categorical_accuracy: 0.9988 - val_loss: 0.0038 - val_categorical_accuracy: 0.9988\n",
            "Epoch 97/100\n",
            "6391/6391 [==============================] - 54s 8ms/step - loss: 0.0035 - categorical_accuracy: 0.9988 - val_loss: 0.0037 - val_categorical_accuracy: 0.9988\n",
            "Epoch 98/100\n",
            "6391/6391 [==============================] - 57s 9ms/step - loss: 0.0035 - categorical_accuracy: 0.9988 - val_loss: 0.0037 - val_categorical_accuracy: 0.9988\n",
            "Epoch 99/100\n",
            "6391/6391 [==============================] - 50s 8ms/step - loss: 0.0035 - categorical_accuracy: 0.9988 - val_loss: 0.0037 - val_categorical_accuracy: 0.9988\n",
            "Epoch 100/100\n",
            "6391/6391 [==============================] - 48s 8ms/step - loss: 0.0035 - categorical_accuracy: 0.9989 - val_loss: 0.0037 - val_categorical_accuracy: 0.9988\n"
          ]
        }
      ]
    },
    {
      "cell_type": "code",
      "source": [
        "lstm_model.save('/content/drive/MyDrive/roshan_sent_tag_data/models/lstm_model.h5')"
      ],
      "metadata": {
        "id": "ZcHgxeq7A5hF"
      },
      "execution_count": null,
      "outputs": []
    },
    {
      "cell_type": "code",
      "source": [
        "lstm_model= tf.keras.models.load_model('/content/drive/MyDrive/roshan_sent_tag_data/models/lstm_model.h5')"
      ],
      "metadata": {
        "id": "0fElGakIbZ8T"
      },
      "execution_count": null,
      "outputs": []
    },
    {
      "cell_type": "markdown",
      "source": [
        "**Visualizing Training History**"
      ],
      "metadata": {
        "id": "ssxsWwiCvX9x"
      }
    },
    {
      "cell_type": "code",
      "source": [
        "#lstm_model\n",
        "plt.plot(lstm_history.history['categorical_accuracy'])\n",
        "plt.plot(lstm_history.history['val_categorical_accuracy'])\n",
        "plt.title('model accuracy')\n",
        "plt.ylabel('accuracy')\n",
        "plt.xlabel('epoch')\n",
        "plt.legend(['train' , 'test'], loc= \"lower right\")\n",
        "plt.show()"
      ],
      "metadata": {
        "colab": {
          "base_uri": "https://localhost:8080/",
          "height": 472
        },
        "id": "Lz1r9ot1vY_F",
        "outputId": "6297d781-1f20-4ab8-c6fc-5e5201ee3e8d"
      },
      "execution_count": null,
      "outputs": [
        {
          "output_type": "display_data",
          "data": {
            "text/plain": [
              "<Figure size 640x480 with 1 Axes>"
            ],
            "image/png": "[encoded data removed]"
          },
          "metadata": {}
        }
      ]
    },
    {
      "cell_type": "code",
      "source": [
        "plt.plot(lstm_history.history['loss'])\n",
        "plt.plot(lstm_history.history['val_loss'])\n",
        "plt.title('model loss')\n",
        "plt.ylabel('loss')\n",
        "plt.xlabel('epoch')\n",
        "plt.legend(['train' , 'test'], loc= \"lower right\")\n",
        "plt.show()"
      ],
      "metadata": {
        "colab": {
          "base_uri": "https://localhost:8080/",
          "height": 472
        },
        "id": "5DN47mAKz80d",
        "outputId": "10cb14af-cab9-484a-ed5e-9ec2d3c6e56d"
      },
      "execution_count": null,
      "outputs": [
        {
          "output_type": "display_data",
          "data": {
            "text/plain": [
              "<Figure size 640x480 with 1 Axes>"
            ],
            "image/png": "[encoded data removed]"
          },
          "metadata": {}
        }
      ]
    },
    {
      "cell_type": "markdown",
      "source": [
        "**Performance_Evaluation**"
      ],
      "metadata": {
        "id": "4SzvhLcAvcm1"
      }
    },
    {
      "cell_type": "code",
      "source": [
        "loss, accuracy = lstm_model.evaluate(X_test, y_test)\n",
        "print(\"LSTM_Model \\nLoss: {0}, \\nTestAccuracy: {1}\".format(loss, accuracy))"
      ],
      "metadata": {
        "colab": {
          "base_uri": "https://localhost:8080/"
        },
        "id": "4nwW-XCxvdh-",
        "outputId": "8532e9ab-cab3-4954-89d9-9e702f05310c"
      },
      "execution_count": null,
      "outputs": [
        {
          "output_type": "stream",
          "name": "stdout",
          "text": [
            "1997/1997 [==============================] - 10s 5ms/step - loss: 0.0036 - categorical_accuracy: 0.9988\n",
            "LSTM_Model \n",
            "Loss: 0.003614935325458646, \n",
            "TestAccuracy: 0.9987888932228088\n"
          ]
        }
      ]
    },
    {
      "cell_type": "markdown",
      "source": [
        "**Classification Report**"
      ],
      "metadata": {
        "id": "1HCAiS9yvmzW"
      }
    },
    {
      "cell_type": "code",
      "source": [
        "from sklearn.metrics import classification_report\n",
        "\n",
        "y_pred = lstm_model.predict(X_test)\n",
        "\n",
        "y_pred2 = np.argmax(y_pred, axis=-1)\n",
        "\n",
        "y_true = np.argmax(y_test, axis=-1)\n",
        "\n",
        "tags = ['ADVe','AJe','CONJe','DETe','NUMe','Ne','PROe','Pe','RESe','Ve']"
      ],
      "metadata": {
        "id": "p23-Fv9weR1N",
        "colab": {
          "base_uri": "https://localhost:8080/"
        },
        "outputId": "8b462e60-d3a7-4d80-9dc1-bbb627e906ad"
      },
      "execution_count": null,
      "outputs": [
        {
          "output_type": "stream",
          "name": "stdout",
          "text": [
            "1997/1997 [==============================] - 7s 3ms/step\n"
          ]
        }
      ]
    },
    {
      "cell_type": "code",
      "source": [
        "set(y_pred2.flatten())"
      ],
      "metadata": {
        "colab": {
          "base_uri": "https://localhost:8080/"
        },
        "id": "CwK941kz9L-d",
        "outputId": "f0c8d629-83a9-4ad5-d413-203abd03d359"
      },
      "execution_count": null,
      "outputs": [
        {
          "output_type": "execute_result",
          "data": {
            "text/plain": [
              "{0, 2, 4, 5, 6, 7, 8, 9}"
            ]
          },
          "metadata": {},
          "execution_count": 18
        }
      ]
    },
    {
      "cell_type": "code",
      "source": [
        "report = classification_report(y_true.flatten(), y_pred2.flatten(),target_names=tags)\n",
        "print(report)"
      ],
      "metadata": {
        "colab": {
          "base_uri": "https://localhost:8080/"
        },
        "id": "Wu4FvPhVf8hq",
        "outputId": "e6e4ea54-6dea-42cd-d14e-5f92749c0d07"
      },
      "execution_count": null,
      "outputs": [
        {
          "output_type": "stream",
          "name": "stderr",
          "text": [
            "/usr/local/lib/python3.10/dist-packages/sklearn/metrics/_classification.py:1344: UndefinedMetricWarning: Precision and F-score are ill-defined and being set to 0.0 in labels with no predicted samples. Use `zero_division` parameter to control this behavior.\n",
            "  _warn_prf(average, modifier, msg_start, len(result))\n",
            "/usr/local/lib/python3.10/dist-packages/sklearn/metrics/_classification.py:1344: UndefinedMetricWarning: Precision and F-score are ill-defined and being set to 0.0 in labels with no predicted samples. Use `zero_division` parameter to control this behavior.\n",
            "  _warn_prf(average, modifier, msg_start, len(result))\n"
          ]
        },
        {
          "output_type": "stream",
          "name": "stdout",
          "text": [
            "              precision    recall  f1-score   support\n",
            "\n",
            "        ADVe       1.00      1.00      1.00   7226318\n",
            "         AJe       0.00      0.00      0.00       213\n",
            "       CONJe       0.95      0.90      0.92      5576\n",
            "        DETe       0.00      0.00      0.00       351\n",
            "        NUMe       0.95      0.94      0.95     44393\n",
            "          Ne       1.00      0.81      0.89       563\n",
            "        PROe       0.96      0.91      0.94      4670\n",
            "          Pe       0.91      0.91      0.91      2211\n",
            "        RESe       0.90      0.94      0.92     21997\n",
            "          Ve       0.99      0.99      0.99    361948\n",
            "\n",
            "    accuracy                           1.00   7668240\n",
            "   macro avg       0.77      0.74      0.75   7668240\n",
            "weighted avg       1.00      1.00      1.00   7668240\n",
            "\n"
          ]
        },
        {
          "output_type": "stream",
          "name": "stderr",
          "text": [
            "/usr/local/lib/python3.10/dist-packages/sklearn/metrics/_classification.py:1344: UndefinedMetricWarning: Precision and F-score are ill-defined and being set to 0.0 in labels with no predicted samples. Use `zero_division` parameter to control this behavior.\n",
            "  _warn_prf(average, modifier, msg_start, len(result))\n"
          ]
        }
      ]
    }
  ]
}