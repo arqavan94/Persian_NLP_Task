{
  "nbformat": 4,
  "nbformat_minor": 0,
  "metadata": {
    "colab": {
      "provenance": [],
      "include_colab_link": true
    },
    "kernelspec": {
      "name": "python3",
      "display_name": "Python 3"
    },
    "language_info": {
      "name": "python"
    },
    "accelerator": "GPU",
    "gpuClass": "standard"
  },
  "cells": [
    {
      "cell_type": "markdown",
      "metadata": {
        "id": "view-in-github",
        "colab_type": "text"
      },
      "source": [
        "<a href=\"https://colab.research.google.com/github/arqavan94/Persian_NLP_Task/blob/main/LSTM_othertags.ipynb\" target=\"_parent\"><img src=\"https://colab.research.google.com/assets/colab-badge.svg\" alt=\"Open In Colab\"/></a>"
      ]
    },
    {
      "cell_type": "code",
      "execution_count": null,
      "metadata": {
        "id": "-6CdK0kJxTRp"
      },
      "outputs": [],
      "source": [
        "import numpy as np\n",
        "from keras.models import Sequential\n",
        "from keras.layers import Dense, LSTM, InputLayer, Bidirectional, TimeDistributed, Embedding, Activation, SimpleRNN,GRU,Dropout,Conv1D, MaxPooling1D\n",
        "from keras.optimizers import Adam\n",
        "from matplotlib import pyplot as plt\n",
        "import seaborn as sns\n",
        "from sklearn.model_selection import train_test_split\n",
        "import tensorflow as tf\n",
        "from tensorflow.keras.preprocessing.sequence import pad_sequences\n",
        "from keras.preprocessing.text import Tokenizer\n",
        "import pickle as pkl\n",
        "from keras import metrics\n",
        "from sklearn.metrics import classification_report, confusion_matrix\n",
        "from tensorflow.keras.utils import to_categorical\n",
        "import random"
      ]
    },
    {
      "cell_type": "code",
      "source": [
        "from google.colab import drive\n",
        "drive.mount('/content/drive')"
      ],
      "metadata": {
        "colab": {
          "base_uri": "https://localhost:8080/"
        },
        "id": "tE4s1bdlymAw",
        "outputId": "7d83193a-32b7-471e-e60a-f8d56796a547"
      },
      "execution_count": null,
      "outputs": [
        {
          "output_type": "stream",
          "name": "stdout",
          "text": [
            "Mounted at /content/drive\n"
          ]
        }
      ]
    },
    {
      "cell_type": "markdown",
      "source": [
        "# **Prepare Data**"
      ],
      "metadata": {
        "id": "BOthNH9rydex"
      }
    },
    {
      "cell_type": "code",
      "source": [
        "text_labels= np.load('/content/drive/MyDrive/text_labels.npz', allow_pickle=True)\n",
        "text_labels.files\n",
        "text_labels= text_labels['arr_0']"
      ],
      "metadata": {
        "id": "0tav5TjAyhwW"
      },
      "execution_count": null,
      "outputs": []
    },
    {
      "cell_type": "markdown",
      "source": [
        "**Split tags**"
      ],
      "metadata": {
        "id": "YxLhS7qJyy02"
      }
    },
    {
      "cell_type": "code",
      "source": [
        "words, tags = set(), set()\n",
        "for sent in text_labels:\n",
        "    for word, tag in sent:\n",
        "      if tag not in ('ADVe','AJe','CONJe','DETe','NUMe','Ne','PROe','Pe','RESe','Ve'):\n",
        "          words.add(word)\n",
        "          tags.add(tag) "
      ],
      "metadata": {
        "id": "2EpU4co7y1S-"
      },
      "execution_count": null,
      "outputs": []
    },
    {
      "cell_type": "markdown",
      "source": [
        "# **Convert to number**"
      ],
      "metadata": {
        "id": "XcNicjFmy6vl"
      }
    },
    {
      "cell_type": "code",
      "source": [
        "word2idx = {w: i + 2 for i, w in enumerate(list(words))}\n",
        "word2idx['PAD'] = 0\n",
        "word2idx['UNK'] = 1\n",
        "tag2idx = {t: i+1 for i, t in enumerate(list(tags))}\n",
        "idx2word = {i + 2: w for i, w in enumerate(list(words))}\n",
        "idx2tag = {i+1: t for i, t in enumerate(list(tags))}\n",
        "tag2idx['<PAD>'] = 0"
      ],
      "metadata": {
        "id": "HmjsLChPy9I9"
      },
      "execution_count": null,
      "outputs": []
    },
    {
      "cell_type": "code",
      "source": [
        "X=[]\n",
        "y =[]\n",
        "for sent in text_labels:\n",
        "  word2idxlist , tag2idxlist =[],[]\n",
        "  flag= False\n",
        "  for w,t in sent:\n",
        "    if t not in ('ADVe','AJe','CONJe','DETe','NUMe','Ne','PROe','Pe','RESe','Ve'):\n",
        "      word2idxlist.append(word2idx[w])\n",
        "      tag2idxlist.append(tag2idx[t])\n",
        "      flag=True\n",
        "  if flag:\n",
        "    X.append(word2idxlist)\n",
        "    y.append(tag2idxlist)"
      ],
      "metadata": {
        "id": "4oEKYM8xzCoN"
      },
      "execution_count": null,
      "outputs": []
    },
    {
      "cell_type": "code",
      "source": [
        "lengths=[len(seq) for seq in X]\n",
        "print(\"Length of longest sentence: {}\".format(max(lengths)))"
      ],
      "metadata": {
        "colab": {
          "base_uri": "https://localhost:8080/"
        },
        "id": "UrZ9BsNqzI7t",
        "outputId": "29c9acfa-6762-4941-b7cd-118068fd90d8"
      },
      "execution_count": null,
      "outputs": [
        {
          "output_type": "stream",
          "name": "stdout",
          "text": [
            "Length of longest sentence: 991\n"
          ]
        }
      ]
    },
    {
      "cell_type": "code",
      "source": [
        "sns.boxplot(lengths)\n",
        "plt.show()"
      ],
      "metadata": {
        "colab": {
          "base_uri": "https://localhost:8080/",
          "height": 430
        },
        "id": "Ca3WOy9szKwV",
        "outputId": "895800ec-21fa-41ab-9974-8418b16e4780"
      },
      "execution_count": null,
      "outputs": [
        {
          "output_type": "display_data",
          "data": {
            "text/plain": [
              "<Figure size 640x480 with 1 Axes>"
            ],
            "image/png": "[encoded data removed]"
          },
          "metadata": {}
        }
      ]
    },
    {
      "cell_type": "markdown",
      "source": [
        "# **Pad sequences**"
      ],
      "metadata": {
        "id": "Eo92fr3wzQ51"
      }
    },
    {
      "cell_type": "code",
      "source": [
        "max_len = 120\n",
        "X = pad_sequences(X, maxlen=max_len, padding='post')\n",
        "y = pad_sequences(y, maxlen=max_len, padding='post')"
      ],
      "metadata": {
        "id": "Crnx_9yazPE-"
      },
      "execution_count": null,
      "outputs": []
    },
    {
      "cell_type": "markdown",
      "source": [
        "# **Convert to categorical (one_hot)**"
      ],
      "metadata": {
        "id": "OHFedKs4zYCM"
      }
    },
    {
      "cell_type": "code",
      "source": [
        "Y_cat = tf.keras.utils.to_categorical(y)"
      ],
      "metadata": {
        "id": "JbLKXEB8zai1"
      },
      "execution_count": null,
      "outputs": []
    },
    {
      "cell_type": "markdown",
      "source": [
        "# **Split data to train, test, validation**"
      ],
      "metadata": {
        "id": "MrDVMsnHze1S"
      }
    },
    {
      "cell_type": "code",
      "source": [
        "# split train , test\n",
        "(X_train, X_test, y_train, y_test) = train_test_split(X, Y_cat, test_size=0.2, random_state=42)\n",
        "\n",
        "#split train in to train , vlaidation\n",
        "(X_train, X_validation, y_train, y_validation) = train_test_split(X_train, y_train, test_size=0.2,random_state=42)"
      ],
      "metadata": {
        "id": "v4J01KX-zhkU"
      },
      "execution_count": null,
      "outputs": []
    },
    {
      "cell_type": "markdown",
      "source": [
        "# **Save data as pickle**"
      ],
      "metadata": {
        "id": "bcqGShuuznTF"
      }
    },
    {
      "cell_type": "code",
      "source": [
        "with open(\"/content/drive/MyDrive/roshan_sent_tag_data/new_data_tags/X_train.pkl\", \"wb\") as f:\n",
        "    pkl.dump(X_train,f) \n",
        "\n",
        "with open(\"/content/drive/MyDrive/roshan_sent_tag_data/new_data_tags/X_test.pkl\", \"wb\") as f:\n",
        "    pkl.dump(X_test,f) \n",
        "\n",
        "with open(\"/content/drive/MyDrive/roshan_sent_tag_data/new_data_tags/y_train.pkl\", \"wb\") as f:\n",
        "    pkl.dump(y_train,f) \n",
        "\n",
        "with open(\"/content/drive/MyDrive/roshan_sent_tag_data/new_data_tags/y_test.pkl\", \"wb\") as f:\n",
        "    pkl.dump(y_test,f) \n",
        "\n",
        "with open(\"/content/drive/MyDrive/roshan_sent_tag_data/new_data_tags/y_validation.pkl\", \"wb\") as f:\n",
        "    pkl.dump(y_validation,f) \n",
        "\n",
        "with open(\"/content/drive/MyDrive/roshan_sent_tag_data/new_data_tags/X_validation.pkl\", \"wb\") as f:\n",
        "    pkl.dump(X_validation,f)"
      ],
      "metadata": {
        "id": "YBew6kPHzlwc"
      },
      "execution_count": null,
      "outputs": []
    },
    {
      "cell_type": "code",
      "source": [
        "with open(\"/content/drive/MyDrive/roshan_sent_tag_data/new_data_tags/words.pkl\", \"wb\") as f:\n",
        "    pkl.dump(words,f)"
      ],
      "metadata": {
        "id": "X5W8FxAoz-mk"
      },
      "execution_count": null,
      "outputs": []
    },
    {
      "cell_type": "code",
      "source": [
        "with open(\"/content/drive/MyDrive/roshan_sent_tag_data/new_data_tags/tags.pkl\", \"wb\") as f:\n",
        "    pkl.dump(tags,f)"
      ],
      "metadata": {
        "id": "hCRcjuBd0B2k"
      },
      "execution_count": null,
      "outputs": []
    },
    {
      "cell_type": "code",
      "source": [
        "set(tags)"
      ],
      "metadata": {
        "colab": {
          "base_uri": "https://localhost:8080/"
        },
        "id": "iqsQQg7f0E68",
        "outputId": "1a942a00-d68b-496e-ec63-2d278714924c"
      },
      "execution_count": null,
      "outputs": [
        {
          "output_type": "execute_result",
          "data": {
            "text/plain": [
              "{'ADV',\n",
              " 'AJ',\n",
              " 'CL',\n",
              " 'CONJ',\n",
              " 'DET',\n",
              " 'INT',\n",
              " 'N',\n",
              " 'NUM',\n",
              " 'P',\n",
              " 'POSTP',\n",
              " 'PRO',\n",
              " 'PUNC',\n",
              " 'RES',\n",
              " 'V'}"
            ]
          },
          "metadata": {},
          "execution_count": 40
        }
      ]
    },
    {
      "cell_type": "markdown",
      "source": [
        "# **Load Data**"
      ],
      "metadata": {
        "id": "dZGn5YBV1nGR"
      }
    },
    {
      "cell_type": "code",
      "source": [
        "with open(\"/content/drive/MyDrive/roshan_sent_tag_data/new_data_tags/X_train.pkl\", \"rb\") as f:\n",
        "    X_train= pkl.load(f)\n",
        "\n",
        "with open(\"/content/drive/MyDrive/roshan_sent_tag_data/new_data_tags/X_test.pkl\", \"rb\") as f:\n",
        "    X_test= pkl.load(f)\n",
        "\n",
        "with open(\"/content/drive/MyDrive/roshan_sent_tag_data/new_data_tags/y_train.pkl\", \"rb\") as f:\n",
        "    y_train= pkl.load(f)\n",
        "\n",
        "with open(\"/content/drive/MyDrive/roshan_sent_tag_data/new_data_tags/y_test.pkl\", \"rb\") as f:\n",
        "    y_test= pkl.load(f)\n",
        "\n",
        "with open(\"/content/drive/MyDrive/roshan_sent_tag_data/new_data_tags/X_validation.pkl\", \"rb\") as f:\n",
        "    X_validation= pkl.load(f)\n",
        "\n",
        "with open(\"/content/drive/MyDrive/roshan_sent_tag_data/new_data_tags/y_validation.pkl\", \"rb\") as f:\n",
        "    y_validation= pkl.load(f)"
      ],
      "metadata": {
        "id": "B1Mym8yL1i2a"
      },
      "execution_count": null,
      "outputs": []
    },
    {
      "cell_type": "code",
      "source": [
        "with open(\"/content/drive/MyDrive/roshan_sent_tag_data/new_data_tags/words.pkl\", \"rb\") as f:\n",
        "    words= pkl.load(f)"
      ],
      "metadata": {
        "id": "R3Cdbzj61sJh"
      },
      "execution_count": null,
      "outputs": []
    },
    {
      "cell_type": "code",
      "source": [
        "with open(\"/content/drive/MyDrive/roshan_sent_tag_data/new_data_tags/tags.pkl\", \"rb\") as f:\n",
        "    tags= pkl.load(f)"
      ],
      "metadata": {
        "id": "NiOdZI9d1trZ"
      },
      "execution_count": null,
      "outputs": []
    },
    {
      "cell_type": "markdown",
      "source": [
        "# **LSTM**"
      ],
      "metadata": {
        "id": "nUNUPJMN1Mli"
      }
    },
    {
      "cell_type": "code",
      "source": [
        "from keras.optimizers.legacy.gradient_descent import SGD\n",
        "lstm_model = Sequential()\n",
        "lstm_model.add(Embedding(input_dim = len(words) + 2, output_dim= 100, \n",
        "                        input_length= 120))\n",
        "\n",
        "lstm_model.add(LSTM(32, return_sequences=True))\n",
        "lstm_model.add(Dropout(0.5))\n",
        "lstm_model.add(TimeDistributed(Dense(len(tags)+1)))\n",
        "lstm_model.add(Activation('softmax'))\n",
        " \n",
        "lstm_model.compile(loss='categorical_crossentropy',\n",
        "              optimizer= SGD(0.05),\n",
        "              metrics=[metrics.categorical_accuracy])\n",
        " \n",
        "lstm_model.summary()"
      ],
      "metadata": {
        "colab": {
          "base_uri": "https://localhost:8080/"
        },
        "id": "UvPqZ1LP1Pkq",
        "outputId": "805e4860-8e14-41a6-a897-087c7830a61c"
      },
      "execution_count": null,
      "outputs": [
        {
          "output_type": "stream",
          "name": "stdout",
          "text": [
            "Model: \"sequential\"\n",
            "_________________________________________________________________\n",
            " Layer (type)                Output Shape              Param #   \n",
            "=================================================================\n",
            " embedding (Embedding)       (None, 120, 100)          13063600  \n",
            "                                                                 \n",
            " lstm (LSTM)                 (None, 120, 32)           17024     \n",
            "                                                                 \n",
            " dropout (Dropout)           (None, 120, 32)           0         \n",
            "                                                                 \n",
            " time_distributed (TimeDistr  (None, 120, 15)          495       \n",
            " ibuted)                                                         \n",
            "                                                                 \n",
            " activation (Activation)     (None, 120, 15)           0         \n",
            "                                                                 \n",
            "=================================================================\n",
            "Total params: 13,081,119\n",
            "Trainable params: 13,081,119\n",
            "Non-trainable params: 0\n",
            "_________________________________________________________________\n"
          ]
        }
      ]
    },
    {
      "cell_type": "code",
      "source": [
        "lstm_history = lstm_model.fit(X_train, y_train, epochs=100, batch_size=32,\n",
        "                      validation_data=(X_validation, y_validation), callbacks=[tf.keras.callbacks.EarlyStopping(patience=5, monitor='val_loss')])"
      ],
      "metadata": {
        "colab": {
          "base_uri": "https://localhost:8080/"
        },
        "id": "jc1g_zN11WWR",
        "outputId": "0103260e-2c1e-414d-d24c-763487b6145c"
      },
      "execution_count": null,
      "outputs": [
        {
          "output_type": "stream",
          "name": "stdout",
          "text": [
            "Epoch 1/100\n",
            "6895/6895 [==============================] - 68s 9ms/step - loss: 0.3978 - categorical_accuracy: 0.8717 - val_loss: 0.3373 - val_categorical_accuracy: 0.8887\n",
            "Epoch 2/100\n",
            "6895/6895 [==============================] - 58s 8ms/step - loss: 0.2736 - categorical_accuracy: 0.9193 - val_loss: 0.2098 - val_categorical_accuracy: 0.9345\n",
            "Epoch 3/100\n",
            "6895/6895 [==============================] - 60s 9ms/step - loss: 0.1961 - categorical_accuracy: 0.9393 - val_loss: 0.1612 - val_categorical_accuracy: 0.9503\n",
            "Epoch 4/100\n",
            "6895/6895 [==============================] - 61s 9ms/step - loss: 0.1566 - categorical_accuracy: 0.9507 - val_loss: 0.1278 - val_categorical_accuracy: 0.9592\n",
            "Epoch 5/100\n",
            "6895/6895 [==============================] - 62s 9ms/step - loss: 0.1284 - categorical_accuracy: 0.9595 - val_loss: 0.1045 - val_categorical_accuracy: 0.9660\n",
            "Epoch 6/100\n",
            "6895/6895 [==============================] - 57s 8ms/step - loss: 0.1084 - categorical_accuracy: 0.9652 - val_loss: 0.0881 - val_categorical_accuracy: 0.9701\n",
            "Epoch 7/100\n",
            "6895/6895 [==============================] - 60s 9ms/step - loss: 0.0932 - categorical_accuracy: 0.9703 - val_loss: 0.0744 - val_categorical_accuracy: 0.9765\n",
            "Epoch 8/100\n",
            "6895/6895 [==============================] - 56s 8ms/step - loss: 0.0806 - categorical_accuracy: 0.9755 - val_loss: 0.0632 - val_categorical_accuracy: 0.9816\n",
            "Epoch 9/100\n",
            "6895/6895 [==============================] - 56s 8ms/step - loss: 0.0706 - categorical_accuracy: 0.9796 - val_loss: 0.0548 - val_categorical_accuracy: 0.9846\n",
            "Epoch 10/100\n",
            "6895/6895 [==============================] - 59s 9ms/step - loss: 0.0630 - categorical_accuracy: 0.9824 - val_loss: 0.0484 - val_categorical_accuracy: 0.9867\n",
            "Epoch 11/100\n",
            "6895/6895 [==============================] - 61s 9ms/step - loss: 0.0571 - categorical_accuracy: 0.9843 - val_loss: 0.0437 - val_categorical_accuracy: 0.9880\n",
            "Epoch 12/100\n",
            "6895/6895 [==============================] - 60s 9ms/step - loss: 0.0525 - categorical_accuracy: 0.9857 - val_loss: 0.0402 - val_categorical_accuracy: 0.9889\n",
            "Epoch 13/100\n",
            "6895/6895 [==============================] - 57s 8ms/step - loss: 0.0489 - categorical_accuracy: 0.9868 - val_loss: 0.0375 - val_categorical_accuracy: 0.9896\n",
            "Epoch 14/100\n",
            "6895/6895 [==============================] - 62s 9ms/step - loss: 0.0459 - categorical_accuracy: 0.9877 - val_loss: 0.0352 - val_categorical_accuracy: 0.9901\n",
            "Epoch 15/100\n",
            "6895/6895 [==============================] - 61s 9ms/step - loss: 0.0434 - categorical_accuracy: 0.9883 - val_loss: 0.0333 - val_categorical_accuracy: 0.9905\n",
            "Epoch 16/100\n",
            "6895/6895 [==============================] - 56s 8ms/step - loss: 0.0414 - categorical_accuracy: 0.9889 - val_loss: 0.0318 - val_categorical_accuracy: 0.9909\n",
            "Epoch 17/100\n",
            "6895/6895 [==============================] - 56s 8ms/step - loss: 0.0397 - categorical_accuracy: 0.9893 - val_loss: 0.0305 - val_categorical_accuracy: 0.9912\n",
            "Epoch 18/100\n",
            "6895/6895 [==============================] - 56s 8ms/step - loss: 0.0381 - categorical_accuracy: 0.9897 - val_loss: 0.0294 - val_categorical_accuracy: 0.9915\n",
            "Epoch 19/100\n",
            "6895/6895 [==============================] - 56s 8ms/step - loss: 0.0367 - categorical_accuracy: 0.9900 - val_loss: 0.0284 - val_categorical_accuracy: 0.9917\n",
            "Epoch 20/100\n",
            "6895/6895 [==============================] - 61s 9ms/step - loss: 0.0355 - categorical_accuracy: 0.9903 - val_loss: 0.0276 - val_categorical_accuracy: 0.9919\n",
            "Epoch 21/100\n",
            "6895/6895 [==============================] - 58s 8ms/step - loss: 0.0345 - categorical_accuracy: 0.9906 - val_loss: 0.0268 - val_categorical_accuracy: 0.9921\n",
            "Epoch 22/100\n",
            "6895/6895 [==============================] - 60s 9ms/step - loss: 0.0334 - categorical_accuracy: 0.9909 - val_loss: 0.0261 - val_categorical_accuracy: 0.9923\n",
            "Epoch 23/100\n",
            "6895/6895 [==============================] - 61s 9ms/step - loss: 0.0326 - categorical_accuracy: 0.9911 - val_loss: 0.0255 - val_categorical_accuracy: 0.9925\n",
            "Epoch 24/100\n",
            "6895/6895 [==============================] - 57s 8ms/step - loss: 0.0318 - categorical_accuracy: 0.9913 - val_loss: 0.0250 - val_categorical_accuracy: 0.9927\n",
            "Epoch 25/100\n",
            "6895/6895 [==============================] - 71s 10ms/step - loss: 0.0311 - categorical_accuracy: 0.9915 - val_loss: 0.0246 - val_categorical_accuracy: 0.9927\n",
            "Epoch 26/100\n",
            "6895/6895 [==============================] - 60s 9ms/step - loss: 0.0304 - categorical_accuracy: 0.9916 - val_loss: 0.0240 - val_categorical_accuracy: 0.9929\n",
            "Epoch 27/100\n",
            "6895/6895 [==============================] - 61s 9ms/step - loss: 0.0297 - categorical_accuracy: 0.9918 - val_loss: 0.0235 - val_categorical_accuracy: 0.9931\n",
            "Epoch 28/100\n",
            "6895/6895 [==============================] - 61s 9ms/step - loss: 0.0292 - categorical_accuracy: 0.9919 - val_loss: 0.0231 - val_categorical_accuracy: 0.9932\n",
            "Epoch 29/100\n",
            "6895/6895 [==============================] - 56s 8ms/step - loss: 0.0286 - categorical_accuracy: 0.9921 - val_loss: 0.0227 - val_categorical_accuracy: 0.9933\n",
            "Epoch 30/100\n",
            "6895/6895 [==============================] - 56s 8ms/step - loss: 0.0281 - categorical_accuracy: 0.9922 - val_loss: 0.0223 - val_categorical_accuracy: 0.9934\n",
            "Epoch 31/100\n",
            "6895/6895 [==============================] - 55s 8ms/step - loss: 0.0276 - categorical_accuracy: 0.9923 - val_loss: 0.0221 - val_categorical_accuracy: 0.9934\n",
            "Epoch 32/100\n",
            "6895/6895 [==============================] - 60s 9ms/step - loss: 0.0271 - categorical_accuracy: 0.9924 - val_loss: 0.0217 - val_categorical_accuracy: 0.9935\n",
            "Epoch 33/100\n",
            "6895/6895 [==============================] - 59s 9ms/step - loss: 0.0266 - categorical_accuracy: 0.9926 - val_loss: 0.0213 - val_categorical_accuracy: 0.9936\n",
            "Epoch 34/100\n",
            "6895/6895 [==============================] - 60s 9ms/step - loss: 0.0263 - categorical_accuracy: 0.9926 - val_loss: 0.0211 - val_categorical_accuracy: 0.9937\n",
            "Epoch 35/100\n",
            "6895/6895 [==============================] - 61s 9ms/step - loss: 0.0259 - categorical_accuracy: 0.9927 - val_loss: 0.0208 - val_categorical_accuracy: 0.9937\n",
            "Epoch 36/100\n",
            "6895/6895 [==============================] - 56s 8ms/step - loss: 0.0255 - categorical_accuracy: 0.9928 - val_loss: 0.0206 - val_categorical_accuracy: 0.9938\n",
            "Epoch 37/100\n",
            "6895/6895 [==============================] - 55s 8ms/step - loss: 0.0252 - categorical_accuracy: 0.9929 - val_loss: 0.0205 - val_categorical_accuracy: 0.9938\n",
            "Epoch 38/100\n",
            "6895/6895 [==============================] - 55s 8ms/step - loss: 0.0248 - categorical_accuracy: 0.9930 - val_loss: 0.0202 - val_categorical_accuracy: 0.9939\n",
            "Epoch 39/100\n",
            "6895/6895 [==============================] - 55s 8ms/step - loss: 0.0246 - categorical_accuracy: 0.9931 - val_loss: 0.0201 - val_categorical_accuracy: 0.9939\n",
            "Epoch 40/100\n",
            "6895/6895 [==============================] - 56s 8ms/step - loss: 0.0242 - categorical_accuracy: 0.9932 - val_loss: 0.0199 - val_categorical_accuracy: 0.9940\n",
            "Epoch 41/100\n",
            "6895/6895 [==============================] - 59s 9ms/step - loss: 0.0240 - categorical_accuracy: 0.9932 - val_loss: 0.0197 - val_categorical_accuracy: 0.9940\n",
            "Epoch 42/100\n",
            "6895/6895 [==============================] - 55s 8ms/step - loss: 0.0237 - categorical_accuracy: 0.9933 - val_loss: 0.0195 - val_categorical_accuracy: 0.9941\n",
            "Epoch 43/100\n",
            "6895/6895 [==============================] - 54s 8ms/step - loss: 0.0234 - categorical_accuracy: 0.9933 - val_loss: 0.0194 - val_categorical_accuracy: 0.9941\n",
            "Epoch 44/100\n",
            "6895/6895 [==============================] - 60s 9ms/step - loss: 0.0232 - categorical_accuracy: 0.9934 - val_loss: 0.0192 - val_categorical_accuracy: 0.9941\n",
            "Epoch 45/100\n",
            "6895/6895 [==============================] - 59s 9ms/step - loss: 0.0230 - categorical_accuracy: 0.9935 - val_loss: 0.0191 - val_categorical_accuracy: 0.9942\n",
            "Epoch 46/100\n",
            "6895/6895 [==============================] - 55s 8ms/step - loss: 0.0227 - categorical_accuracy: 0.9935 - val_loss: 0.0190 - val_categorical_accuracy: 0.9942\n",
            "Epoch 47/100\n",
            "6895/6895 [==============================] - 56s 8ms/step - loss: 0.0225 - categorical_accuracy: 0.9936 - val_loss: 0.0188 - val_categorical_accuracy: 0.9942\n",
            "Epoch 48/100\n",
            "6895/6895 [==============================] - 55s 8ms/step - loss: 0.0223 - categorical_accuracy: 0.9936 - val_loss: 0.0187 - val_categorical_accuracy: 0.9943\n",
            "Epoch 49/100\n",
            "6895/6895 [==============================] - 59s 9ms/step - loss: 0.0221 - categorical_accuracy: 0.9937 - val_loss: 0.0186 - val_categorical_accuracy: 0.9943\n",
            "Epoch 50/100\n",
            "6895/6895 [==============================] - 54s 8ms/step - loss: 0.0219 - categorical_accuracy: 0.9937 - val_loss: 0.0184 - val_categorical_accuracy: 0.9944\n",
            "Epoch 51/100\n",
            "6895/6895 [==============================] - 62s 9ms/step - loss: 0.0217 - categorical_accuracy: 0.9938 - val_loss: 0.0185 - val_categorical_accuracy: 0.9943\n",
            "Epoch 52/100\n",
            "6895/6895 [==============================] - 56s 8ms/step - loss: 0.0215 - categorical_accuracy: 0.9938 - val_loss: 0.0183 - val_categorical_accuracy: 0.9943\n",
            "Epoch 53/100\n",
            "6895/6895 [==============================] - 56s 8ms/step - loss: 0.0214 - categorical_accuracy: 0.9938 - val_loss: 0.0183 - val_categorical_accuracy: 0.9943\n",
            "Epoch 54/100\n",
            "6895/6895 [==============================] - 57s 8ms/step - loss: 0.0212 - categorical_accuracy: 0.9939 - val_loss: 0.0181 - val_categorical_accuracy: 0.9944\n",
            "Epoch 55/100\n",
            "6895/6895 [==============================] - 61s 9ms/step - loss: 0.0209 - categorical_accuracy: 0.9939 - val_loss: 0.0180 - val_categorical_accuracy: 0.9944\n",
            "Epoch 56/100\n",
            "6895/6895 [==============================] - 60s 9ms/step - loss: 0.0208 - categorical_accuracy: 0.9940 - val_loss: 0.0179 - val_categorical_accuracy: 0.9944\n",
            "Epoch 57/100\n",
            "6895/6895 [==============================] - 60s 9ms/step - loss: 0.0206 - categorical_accuracy: 0.9940 - val_loss: 0.0178 - val_categorical_accuracy: 0.9945\n",
            "Epoch 58/100\n",
            "6895/6895 [==============================] - 56s 8ms/step - loss: 0.0205 - categorical_accuracy: 0.9940 - val_loss: 0.0177 - val_categorical_accuracy: 0.9945\n",
            "Epoch 59/100\n",
            "6895/6895 [==============================] - 56s 8ms/step - loss: 0.0204 - categorical_accuracy: 0.9941 - val_loss: 0.0177 - val_categorical_accuracy: 0.9945\n",
            "Epoch 60/100\n",
            "6895/6895 [==============================] - 60s 9ms/step - loss: 0.0202 - categorical_accuracy: 0.9941 - val_loss: 0.0177 - val_categorical_accuracy: 0.9945\n",
            "Epoch 61/100\n",
            "6895/6895 [==============================] - 55s 8ms/step - loss: 0.0200 - categorical_accuracy: 0.9942 - val_loss: 0.0176 - val_categorical_accuracy: 0.9945\n",
            "Epoch 62/100\n",
            "6895/6895 [==============================] - 57s 8ms/step - loss: 0.0199 - categorical_accuracy: 0.9942 - val_loss: 0.0174 - val_categorical_accuracy: 0.9946\n",
            "Epoch 63/100\n",
            "6895/6895 [==============================] - 55s 8ms/step - loss: 0.0198 - categorical_accuracy: 0.9942 - val_loss: 0.0174 - val_categorical_accuracy: 0.9946\n",
            "Epoch 64/100\n",
            "6895/6895 [==============================] - 55s 8ms/step - loss: 0.0197 - categorical_accuracy: 0.9942 - val_loss: 0.0173 - val_categorical_accuracy: 0.9946\n",
            "Epoch 65/100\n",
            "6895/6895 [==============================] - 60s 9ms/step - loss: 0.0196 - categorical_accuracy: 0.9942 - val_loss: 0.0173 - val_categorical_accuracy: 0.9946\n",
            "Epoch 66/100\n",
            "6895/6895 [==============================] - 56s 8ms/step - loss: 0.0194 - categorical_accuracy: 0.9943 - val_loss: 0.0172 - val_categorical_accuracy: 0.9946\n",
            "Epoch 67/100\n",
            "6895/6895 [==============================] - 61s 9ms/step - loss: 0.0193 - categorical_accuracy: 0.9943 - val_loss: 0.0172 - val_categorical_accuracy: 0.9946\n",
            "Epoch 68/100\n",
            "6895/6895 [==============================] - 61s 9ms/step - loss: 0.0192 - categorical_accuracy: 0.9943 - val_loss: 0.0172 - val_categorical_accuracy: 0.9946\n",
            "Epoch 69/100\n",
            "6895/6895 [==============================] - 55s 8ms/step - loss: 0.0191 - categorical_accuracy: 0.9943 - val_loss: 0.0171 - val_categorical_accuracy: 0.9947\n",
            "Epoch 70/100\n",
            "6895/6895 [==============================] - 55s 8ms/step - loss: 0.0190 - categorical_accuracy: 0.9944 - val_loss: 0.0170 - val_categorical_accuracy: 0.9947\n",
            "Epoch 71/100\n",
            "6895/6895 [==============================] - 57s 8ms/step - loss: 0.0189 - categorical_accuracy: 0.9944 - val_loss: 0.0170 - val_categorical_accuracy: 0.9947\n",
            "Epoch 72/100\n",
            "6895/6895 [==============================] - 57s 8ms/step - loss: 0.0188 - categorical_accuracy: 0.9944 - val_loss: 0.0169 - val_categorical_accuracy: 0.9947\n",
            "Epoch 73/100\n",
            "6895/6895 [==============================] - 62s 9ms/step - loss: 0.0186 - categorical_accuracy: 0.9945 - val_loss: 0.0169 - val_categorical_accuracy: 0.9947\n",
            "Epoch 74/100\n",
            "6895/6895 [==============================] - 56s 8ms/step - loss: 0.0185 - categorical_accuracy: 0.9945 - val_loss: 0.0169 - val_categorical_accuracy: 0.9947\n",
            "Epoch 75/100\n",
            "6895/6895 [==============================] - 56s 8ms/step - loss: 0.0184 - categorical_accuracy: 0.9945 - val_loss: 0.0168 - val_categorical_accuracy: 0.9947\n",
            "Epoch 76/100\n",
            "6895/6895 [==============================] - 57s 8ms/step - loss: 0.0184 - categorical_accuracy: 0.9945 - val_loss: 0.0168 - val_categorical_accuracy: 0.9947\n",
            "Epoch 77/100\n",
            "6895/6895 [==============================] - 56s 8ms/step - loss: 0.0183 - categorical_accuracy: 0.9945 - val_loss: 0.0167 - val_categorical_accuracy: 0.9947\n",
            "Epoch 78/100\n",
            "6895/6895 [==============================] - 56s 8ms/step - loss: 0.0182 - categorical_accuracy: 0.9946 - val_loss: 0.0167 - val_categorical_accuracy: 0.9948\n",
            "Epoch 79/100\n",
            "6895/6895 [==============================] - 61s 9ms/step - loss: 0.0181 - categorical_accuracy: 0.9946 - val_loss: 0.0167 - val_categorical_accuracy: 0.9947\n",
            "Epoch 80/100\n",
            "6895/6895 [==============================] - 61s 9ms/step - loss: 0.0180 - categorical_accuracy: 0.9946 - val_loss: 0.0166 - val_categorical_accuracy: 0.9948\n",
            "Epoch 81/100\n",
            "6895/6895 [==============================] - 56s 8ms/step - loss: 0.0179 - categorical_accuracy: 0.9946 - val_loss: 0.0165 - val_categorical_accuracy: 0.9948\n",
            "Epoch 82/100\n",
            "6895/6895 [==============================] - 56s 8ms/step - loss: 0.0178 - categorical_accuracy: 0.9946 - val_loss: 0.0166 - val_categorical_accuracy: 0.9948\n",
            "Epoch 83/100\n",
            "6895/6895 [==============================] - 60s 9ms/step - loss: 0.0177 - categorical_accuracy: 0.9947 - val_loss: 0.0166 - val_categorical_accuracy: 0.9948\n",
            "Epoch 84/100\n",
            "6895/6895 [==============================] - 57s 8ms/step - loss: 0.0176 - categorical_accuracy: 0.9947 - val_loss: 0.0165 - val_categorical_accuracy: 0.9948\n",
            "Epoch 85/100\n",
            "6895/6895 [==============================] - 61s 9ms/step - loss: 0.0175 - categorical_accuracy: 0.9947 - val_loss: 0.0165 - val_categorical_accuracy: 0.9948\n",
            "Epoch 86/100\n",
            "6895/6895 [==============================] - 61s 9ms/step - loss: 0.0175 - categorical_accuracy: 0.9947 - val_loss: 0.0165 - val_categorical_accuracy: 0.9948\n",
            "Epoch 87/100\n",
            "6895/6895 [==============================] - 57s 8ms/step - loss: 0.0174 - categorical_accuracy: 0.9948 - val_loss: 0.0164 - val_categorical_accuracy: 0.9948\n",
            "Epoch 88/100\n",
            "6895/6895 [==============================] - 57s 8ms/step - loss: 0.0173 - categorical_accuracy: 0.9948 - val_loss: 0.0163 - val_categorical_accuracy: 0.9949\n",
            "Epoch 89/100\n",
            "6895/6895 [==============================] - 58s 8ms/step - loss: 0.0172 - categorical_accuracy: 0.9948 - val_loss: 0.0164 - val_categorical_accuracy: 0.9948\n",
            "Epoch 90/100\n",
            "6895/6895 [==============================] - 58s 8ms/step - loss: 0.0171 - categorical_accuracy: 0.9948 - val_loss: 0.0164 - val_categorical_accuracy: 0.9948\n",
            "Epoch 91/100\n",
            "6895/6895 [==============================] - 57s 8ms/step - loss: 0.0171 - categorical_accuracy: 0.9948 - val_loss: 0.0163 - val_categorical_accuracy: 0.9949\n",
            "Epoch 92/100\n",
            "6895/6895 [==============================] - 61s 9ms/step - loss: 0.0170 - categorical_accuracy: 0.9948 - val_loss: 0.0163 - val_categorical_accuracy: 0.9949\n",
            "Epoch 93/100\n",
            "6895/6895 [==============================] - 57s 8ms/step - loss: 0.0170 - categorical_accuracy: 0.9948 - val_loss: 0.0162 - val_categorical_accuracy: 0.9949\n",
            "Epoch 94/100\n",
            "6895/6895 [==============================] - 61s 9ms/step - loss: 0.0169 - categorical_accuracy: 0.9948 - val_loss: 0.0163 - val_categorical_accuracy: 0.9949\n",
            "Epoch 95/100\n",
            "6895/6895 [==============================] - 61s 9ms/step - loss: 0.0168 - categorical_accuracy: 0.9949 - val_loss: 0.0162 - val_categorical_accuracy: 0.9949\n",
            "Epoch 96/100\n",
            "6895/6895 [==============================] - 56s 8ms/step - loss: 0.0167 - categorical_accuracy: 0.9949 - val_loss: 0.0162 - val_categorical_accuracy: 0.9949\n",
            "Epoch 97/100\n",
            "6895/6895 [==============================] - 59s 9ms/step - loss: 0.0167 - categorical_accuracy: 0.9949 - val_loss: 0.0161 - val_categorical_accuracy: 0.9949\n",
            "Epoch 98/100\n",
            "6895/6895 [==============================] - 60s 9ms/step - loss: 0.0166 - categorical_accuracy: 0.9949 - val_loss: 0.0161 - val_categorical_accuracy: 0.9949\n",
            "Epoch 99/100\n",
            "6895/6895 [==============================] - 59s 9ms/step - loss: 0.0165 - categorical_accuracy: 0.9949 - val_loss: 0.0162 - val_categorical_accuracy: 0.9949\n",
            "Epoch 100/100\n",
            "6895/6895 [==============================] - 64s 9ms/step - loss: 0.0165 - categorical_accuracy: 0.9949 - val_loss: 0.0161 - val_categorical_accuracy: 0.9949\n"
          ]
        }
      ]
    },
    {
      "cell_type": "code",
      "source": [
        "lstm_model.save('/content/drive/MyDrive/roshan_sent_tag_data/models/lstm_model_othertags.h5')"
      ],
      "metadata": {
        "id": "1rByWl0T27Wf"
      },
      "execution_count": null,
      "outputs": []
    },
    {
      "cell_type": "code",
      "source": [
        "lstm_model= tf.keras.models.load_model('/content/drive/MyDrive/roshan_sent_tag_data/models/lstm_model_othertags.h5')"
      ],
      "metadata": {
        "id": "7I0OWUV2iQPu"
      },
      "execution_count": null,
      "outputs": []
    },
    {
      "cell_type": "markdown",
      "source": [
        "**Visualizing Training History**"
      ],
      "metadata": {
        "id": "ltpFPgdJBJyF"
      }
    },
    {
      "cell_type": "code",
      "source": [
        "#lstm_model\n",
        "plt.plot(lstm_history.history['categorical_accuracy'])\n",
        "plt.plot(lstm_history.history['val_categorical_accuracy'])\n",
        "plt.title('model accuracy')\n",
        "plt.ylabel('accuracy')\n",
        "plt.xlabel('epoch')\n",
        "plt.legend(['train' , 'test'], loc= \"lower right\")\n",
        "plt.show()"
      ],
      "metadata": {
        "colab": {
          "base_uri": "https://localhost:8080/",
          "height": 472
        },
        "id": "uDMPvsY9BK4l",
        "outputId": "00268b36-7955-4bdf-d20d-009210bde3fb"
      },
      "execution_count": null,
      "outputs": [
        {
          "output_type": "display_data",
          "data": {
            "text/plain": [
              "<Figure size 640x480 with 1 Axes>"
            ],
            "image/png": "[encoded data removed]"
          },
          "metadata": {}
        }
      ]
    },
    {
      "cell_type": "code",
      "source": [
        "plt.plot(lstm_history.history['loss'])\n",
        "plt.plot(lstm_history.history['val_loss'])\n",
        "plt.title('model loss')\n",
        "plt.ylabel('loss')\n",
        "plt.xlabel('epoch')\n",
        "plt.legend(['train' , 'test'], loc= \"lower right\")\n",
        "plt.show()"
      ],
      "metadata": {
        "colab": {
          "base_uri": "https://localhost:8080/",
          "height": 472
        },
        "id": "JyWfXmhuBObl",
        "outputId": "34b56a60-a1c9-4078-a3cb-0822fc674faa"
      },
      "execution_count": null,
      "outputs": [
        {
          "output_type": "display_data",
          "data": {
            "text/plain": [
              "<Figure size 640x480 with 1 Axes>"
            ],
            "image/png": "[encoded data removed]"
          },
          "metadata": {}
        }
      ]
    },
    {
      "cell_type": "markdown",
      "source": [
        "**Performance_Evaluation**"
      ],
      "metadata": {
        "id": "pjlf7fj9BSxt"
      }
    },
    {
      "cell_type": "code",
      "source": [
        "loss, accuracy = lstm_model.evaluate(X_test, y_test)\n",
        "print(\"LSTM_Model \\nLoss: {0}, \\nTestAccuracy: {1}\".format(loss, accuracy))"
      ],
      "metadata": {
        "colab": {
          "base_uri": "https://localhost:8080/"
        },
        "id": "aM30EWqUBUbl",
        "outputId": "484dc238-16a1-462c-d097-2146c2308818"
      },
      "execution_count": null,
      "outputs": [
        {
          "output_type": "stream",
          "name": "stdout",
          "text": [
            "2155/2155 [==============================] - 17s 5ms/step - loss: 0.0162 - categorical_accuracy: 0.9949\n",
            "LSTM_Model \n",
            "Loss: 0.016239024698734283, \n",
            "TestAccuracy: 0.9948663115501404\n"
          ]
        }
      ]
    },
    {
      "cell_type": "markdown",
      "source": [
        "**Classification Report**"
      ],
      "metadata": {
        "id": "A9B6JajaBahV"
      }
    },
    {
      "cell_type": "code",
      "source": [
        "from sklearn.metrics import classification_report\n",
        "\n",
        "y_pred = lstm_model.predict(X_test)\n",
        "\n",
        "y_pred2 = np.argmax(y_pred, axis=-1)\n",
        "\n",
        "y_true = np.argmax(y_test, axis=-1)\n",
        "\n",
        "tags = ['ADV','AJ','CL','CONJ','DET','INT','N','NUM','P','POSTP','PRO','PUNC','RES','V','PAD']"
      ],
      "metadata": {
        "colab": {
          "base_uri": "https://localhost:8080/"
        },
        "id": "7xCNoyKCBbid",
        "outputId": "cb54f9e6-722e-460e-99f5-99a7f84a68d8"
      },
      "execution_count": null,
      "outputs": [
        {
          "output_type": "stream",
          "name": "stdout",
          "text": [
            "2155/2155 [==============================] - 8s 4ms/step\n"
          ]
        }
      ]
    },
    {
      "cell_type": "code",
      "source": [
        "set(y_pred2.flatten())"
      ],
      "metadata": {
        "colab": {
          "base_uri": "https://localhost:8080/"
        },
        "id": "mTE29fx-B8QA",
        "outputId": "6325b6d5-d7ef-46b7-be57-50c2491685c1"
      },
      "execution_count": null,
      "outputs": [
        {
          "output_type": "execute_result",
          "data": {
            "text/plain": [
              "{0, 1, 2, 3, 4, 5, 7, 8, 9, 10, 11, 12, 13, 14}"
            ]
          },
          "metadata": {},
          "execution_count": 10
        }
      ]
    },
    {
      "cell_type": "code",
      "source": [
        "report = classification_report(y_true.flatten(), y_pred2.flatten(),target_names=tags)\n",
        "print(report)"
      ],
      "metadata": {
        "colab": {
          "base_uri": "https://localhost:8080/"
        },
        "id": "FKIjaOjlB8wE",
        "outputId": "6c8d5657-27ba-4f22-e99b-5067d9f988a7"
      },
      "execution_count": null,
      "outputs": [
        {
          "output_type": "stream",
          "name": "stderr",
          "text": [
            "/usr/local/lib/python3.10/dist-packages/sklearn/metrics/_classification.py:1344: UndefinedMetricWarning: Precision and F-score are ill-defined and being set to 0.0 in labels with no predicted samples. Use `zero_division` parameter to control this behavior.\n",
            "  _warn_prf(average, modifier, msg_start, len(result))\n",
            "/usr/local/lib/python3.10/dist-packages/sklearn/metrics/_classification.py:1344: UndefinedMetricWarning: Precision and F-score are ill-defined and being set to 0.0 in labels with no predicted samples. Use `zero_division` parameter to control this behavior.\n",
            "  _warn_prf(average, modifier, msg_start, len(result))\n"
          ]
        },
        {
          "output_type": "stream",
          "name": "stdout",
          "text": [
            "              precision    recall  f1-score   support\n",
            "\n",
            "         ADV       1.00      1.00      1.00   6779188\n",
            "          AJ       0.88      0.92      0.90     44060\n",
            "          CL       0.91      0.70      0.79      6708\n",
            "        CONJ       0.92      0.93      0.93    134735\n",
            "         DET       0.97      0.98      0.97    412533\n",
            "         INT       1.00      0.99      1.00     28594\n",
            "           N       0.00      0.00      0.00       148\n",
            "         NUM       1.00      1.00      1.00    186304\n",
            "           P       0.77      0.58      0.66      4193\n",
            "       POSTP       0.94      0.88      0.91     35452\n",
            "         PRO       0.99      0.99      0.99    174311\n",
            "        PUNC       0.99      1.00      0.99    197030\n",
            "         RES       0.99      0.99      0.99    165612\n",
            "           V       0.99      0.98      0.98     53789\n",
            "         PAD       0.92      0.90      0.91     50503\n",
            "\n",
            "    accuracy                           0.99   8273160\n",
            "   macro avg       0.88      0.86      0.87   8273160\n",
            "weighted avg       0.99      0.99      0.99   8273160\n",
            "\n"
          ]
        },
        {
          "output_type": "stream",
          "name": "stderr",
          "text": [
            "/usr/local/lib/python3.10/dist-packages/sklearn/metrics/_classification.py:1344: UndefinedMetricWarning: Precision and F-score are ill-defined and being set to 0.0 in labels with no predicted samples. Use `zero_division` parameter to control this behavior.\n",
            "  _warn_prf(average, modifier, msg_start, len(result))\n"
          ]
        }
      ]
    }
  ]
}